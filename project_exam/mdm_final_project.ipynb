{
  "nbformat": 4,
  "nbformat_minor": 0,
  "metadata": {
    "colab": {
      "provenance": [],
      "gpuType": "T4"
    },
    "kernelspec": {
      "name": "python3",
      "display_name": "Python 3"
    },
    "language_info": {
      "name": "python"
    },
    "accelerator": "GPU"
  },
  "cells": [
    {
      "cell_type": "markdown",
      "source": [
        "#*TOPIC: DIALOG GENERATOR*"
      ],
      "metadata": {
        "id": "YmTa4KgIAGvy"
      }
    },
    {
      "cell_type": "markdown",
      "source": [
        "Team Members:\n",
        "\n",
        "Shravani Pidurkar(202201070027)\n",
        "\n",
        "Janhavi Pawar(202201070035)\n",
        "\n",
        "Tanvi Tonge(202201070053)"
      ],
      "metadata": {
        "id": "jDyvnrv0AZTo"
      }
    },
    {
      "cell_type": "markdown",
      "source": [
        "# **Without Attention Model**  "
      ],
      "metadata": {
        "id": "zNseBl_57uPB"
      }
    },
    {
      "cell_type": "markdown",
      "source": [
        "## **Download and Extract Dataset**"
      ],
      "metadata": {
        "id": "BE_nidho7uPC"
      }
    },
    {
      "cell_type": "code",
      "source": [
        "import os\n",
        "import kagglehub\n",
        "\n",
        "# Download the dataset\n",
        "dataset_path = kagglehub.dataset_download(\"kreeshrajani/3k-conversations-dataset-for-chatbot\")\n",
        "print(\"Dataset path:\", dataset_path)\n",
        "\n",
        "# List all files to find the actual CSV name\n",
        "print(\"Files in dataset folder:\")\n",
        "print(os.listdir(dataset_path))\n"
      ],
      "metadata": {
        "colab": {
          "base_uri": "https://localhost:8080/"
        },
        "outputId": "7f889ea5-6dc5-4561-affb-c9abb67c1c3a",
        "id": "0RUofsjt7uPC"
      },
      "execution_count": null,
      "outputs": [
        {
          "output_type": "stream",
          "name": "stdout",
          "text": [
            "Dataset path: /kaggle/input/3k-conversations-dataset-for-chatbot\n",
            "Files in dataset folder:\n",
            "['Conversation.csv']\n"
          ]
        }
      ]
    },
    {
      "cell_type": "code",
      "source": [
        "import pandas as pd\n",
        "\n",
        "actual_csv_name = \"Conversation.csv\"\n",
        "df = pd.read_csv(os.path.join(dataset_path, actual_csv_name))\n",
        "\n",
        "print(df.head())\n"
      ],
      "metadata": {
        "colab": {
          "base_uri": "https://localhost:8080/"
        },
        "id": "86-8cEDGtCWy",
        "outputId": "b90d336e-25c0-4051-82fe-2f28f3b16a03"
      },
      "execution_count": null,
      "outputs": [
        {
          "output_type": "stream",
          "name": "stdout",
          "text": [
            "   Unnamed: 0                             question  \\\n",
            "0           0               hi, how are you doing?   \n",
            "1           1        i'm fine. how about yourself?   \n",
            "2           2  i'm pretty good. thanks for asking.   \n",
            "3           3    no problem. so how have you been?   \n",
            "4           4     i've been great. what about you?   \n",
            "\n",
            "                                     answer  \n",
            "0             i'm fine. how about yourself?  \n",
            "1       i'm pretty good. thanks for asking.  \n",
            "2         no problem. so how have you been?  \n",
            "3          i've been great. what about you?  \n",
            "4  i've been good. i'm in school right now.  \n"
          ]
        }
      ]
    },
    {
      "cell_type": "code",
      "source": [
        "import pandas as pd\n",
        "from sklearn.model_selection import train_test_split\n",
        "\n",
        "# Step 1: Load the CSV\n",
        "df = pd.read_csv(os.path.join(dataset_path, actual_csv_name))\n",
        "\n",
        "# Rename columns if needed (cleaning up unnamed index)\n",
        "df = df.rename(columns={\"question\": \"input\", \"answer\": \"response\"})\n",
        "\n",
        "# Step 2: Drop rows with missing values\n",
        "df = df.dropna(subset=[\"input\", \"response\"])\n",
        "\n",
        "# Step 3: Split the data\n",
        "train_df, temp_df = train_test_split(df, test_size=0.2, random_state=42)\n",
        "valid_df, test_df = train_test_split(temp_df, test_size=0.5, random_state=42)\n",
        "\n",
        "# Step 4: Print sample sizes\n",
        "print(f\"Total pairs: {len(df)}\")\n",
        "print(f\"Train size: {len(train_df)}\")\n",
        "print(f\"Validation size: {len(valid_df)}\")\n",
        "print(f\"Test size: {len(test_df)}\")\n",
        "\n",
        "# Optional: Preview\n",
        "print(\"\\nTrain Sample:\")\n",
        "print(train_df.head())\n"
      ],
      "metadata": {
        "colab": {
          "base_uri": "https://localhost:8080/"
        },
        "id": "sWDRz9obKVe3",
        "outputId": "fefcb4aa-19da-42c7-db6a-c7b654a0e98e"
      },
      "execution_count": null,
      "outputs": [
        {
          "output_type": "stream",
          "name": "stdout",
          "text": [
            "Total pairs: 3725\n",
            "Train size: 2980\n",
            "Validation size: 372\n",
            "Test size: 373\n",
            "\n",
            "Train Sample:\n",
            "      Unnamed: 0                                  input  \\\n",
            "1580        1580         because it has great teachers.   \n",
            "2677        2677         a good gun costs $400 or more.   \n",
            "3346        3346          our kids are completely safe.   \n",
            "209          209                            get better.   \n",
            "3370        3370  it's too dangerous for kids and pets.   \n",
            "\n",
            "                                               response  \n",
            "1580                                         what else?  \n",
            "2677  well, if you bring your receipt, maybe they'll...  \n",
            "3346                   so why are we selling our house?  \n",
            "209                                       thanks a lot.  \n",
            "3370             people need to cover their trash cans.  \n"
          ]
        }
      ]
    },
    {
      "cell_type": "markdown",
      "source": [
        "## **Data Cleaning and Tokenization**"
      ],
      "metadata": {
        "id": "1rJHTrKt7uPD"
      }
    },
    {
      "cell_type": "code",
      "source": [
        "from tensorflow.keras.preprocessing.text import Tokenizer\n",
        "from tensorflow.keras.preprocessing.sequence import pad_sequences\n",
        "import numpy as np\n",
        "import re  # For regex-based cleaning\n",
        "\n",
        "# Extract questions and answers\n",
        "input_texts = train_df[\"input\"].dropna().tolist()\n",
        "target_texts = train_df[\"response\"].dropna().tolist()\n",
        "\n",
        "# Debugging: Print first few raw dialogues\n",
        "print(\"First few raw dialogues:\")\n",
        "print(f\"Input: {input_texts[:3]}\")\n",
        "print(f\"Target: {target_texts[:3]}\")\n",
        "\n",
        "# Initialize Tokenizer\n",
        "tokenizer = Tokenizer(oov_token=\"<OOV>\")\n",
        "tokenizer.fit_on_texts(input_texts + target_texts)\n",
        "\n",
        "# Add <start> and <end> tokens to target texts\n",
        "target_texts = ['<start> ' + text + ' <end>' for text in target_texts]\n",
        "\n",
        "# Convert text to sequences\n",
        "input_sequences = tokenizer.texts_to_sequences(input_texts)\n",
        "target_sequences = tokenizer.texts_to_sequences(target_texts)\n",
        "\n",
        "# Padding the sequences\n",
        "max_input_len = max(len(seq) for seq in input_sequences)\n",
        "max_target_len = max(len(seq) for seq in target_sequences)\n",
        "\n",
        "# Pad the input and target sequences\n",
        "encoder_input_data = pad_sequences(input_sequences, maxlen=max_input_len, padding='post')\n",
        "decoder_input_data = pad_sequences(target_sequences, maxlen=max_target_len, padding='post')\n",
        "\n",
        "# Decoder targets: Shift decoder inputs by one position\n",
        "decoder_target_data = np.zeros_like(decoder_input_data)\n",
        "decoder_target_data[:, :-1] = decoder_input_data[:, 1:]\n",
        "decoder_target_data[:, -1] = 0  # Last token is padding\n",
        "\n",
        "# Debugging: Check the shapes and some sample sequences\n",
        "print(\"\\nEncoder input shape:\", encoder_input_data.shape)\n",
        "print(\"Decoder input shape:\", decoder_input_data.shape)\n",
        "print(\"Decoder target shape:\", decoder_target_data.shape)\n",
        "\n",
        "# Debugging: Print first few sequences\n",
        "print(\"\\nFirst 3 input sequences:\", encoder_input_data[:3])\n",
        "print(\"First 3 output sequences:\", decoder_input_data[:3])\n",
        "print(\"First 3 target sequences:\", decoder_target_data[:3])\n"
      ],
      "metadata": {
        "colab": {
          "base_uri": "https://localhost:8080/"
        },
        "outputId": "6517a442-5765-4d2d-f25d-d8f82be25657",
        "id": "GwKCdjqv7uPD"
      },
      "execution_count": null,
      "outputs": [
        {
          "output_type": "stream",
          "name": "stdout",
          "text": [
            "First few raw dialogues:\n",
            "Input: ['because it has great teachers.', 'a good gun costs $400 or more.', 'our kids are completely safe.']\n",
            "Target: ['what else?', \"well, if you bring your receipt, maybe they'll give you $400.\", 'so why are we selling our house?']\n",
            "\n",
            "Encoder input shape: (2980, 19)\n",
            "Decoder input shape: (2980, 21)\n",
            "Decoder target shape: (2980, 21)\n",
            "\n",
            "First 3 input sequences: [[  95    7  121  101 1174    0    0    0    0    0    0    0    0    0\n",
            "     0    0    0    0    0]\n",
            " [   6   44  519  453 1175   83  116    0    0    0    0    0    0    0\n",
            "     0    0    0    0    0]\n",
            " [ 117  328   15 1176  623    0    0    0    0    0    0    0    0    0\n",
            "     0    0    0    0    0]]\n",
            "First 3 output sequences: [[ 266   10  222  604    0    0    0    0    0    0    0    0    0    0\n",
            "     0    0    0    0    0    0    0]\n",
            " [ 266   50   62    3  470   43 1607   76  694  129    3 1175  604    0\n",
            "     0    0    0    0    0    0    0]\n",
            " [ 266   20   41   15   36 1190  117  172  604    0    0    0    0    0\n",
            "     0    0    0    0    0    0    0]]\n",
            "First 3 target sequences: [[  10  222  604    0    0    0    0    0    0    0    0    0    0    0\n",
            "     0    0    0    0    0    0    0]\n",
            " [  50   62    3  470   43 1607   76  694  129    3 1175  604    0    0\n",
            "     0    0    0    0    0    0    0]\n",
            " [  20   41   15   36 1190  117  172  604    0    0    0    0    0    0\n",
            "     0    0    0    0    0    0    0]]\n"
          ]
        }
      ]
    },
    {
      "cell_type": "code",
      "source": [
        "# Manually add <start> and <end> tokens to the tokenizer's word index\n",
        "tokenizer.word_index['<start>'] = len(tokenizer.word_index) + 1\n",
        "tokenizer.word_index['<end>'] = len(tokenizer.word_index) + 2\n",
        "\n",
        "# Update the reverse index as well\n",
        "tokenizer.index_word[tokenizer.word_index['<start>']] = '<start>'\n",
        "tokenizer.index_word[tokenizer.word_index['<end>']] = '<end>'"
      ],
      "metadata": {
        "id": "VXs6c1K-7uPE"
      },
      "execution_count": null,
      "outputs": []
    },
    {
      "cell_type": "markdown",
      "source": [
        "## **LSTM-based Encoder-Decoder Architecture (without Attention)**"
      ],
      "metadata": {
        "id": "XHjFuUzF7uPE"
      }
    },
    {
      "cell_type": "code",
      "source": [
        "from tensorflow.keras.models import Model\n",
        "from tensorflow.keras.layers import Input, LSTM, Dense, Embedding\n",
        "from tensorflow.keras.optimizers import Adam\n",
        "import time\n",
        "\n",
        "# Hyperparameters\n",
        "vocab_size = len(tokenizer.word_index) + 1\n",
        "embedding_dim = 256\n",
        "lstm_units = 512\n",
        "batch_size = 64\n",
        "epochs = 10\n",
        "\n",
        "# Encoder\n",
        "encoder_inputs = Input(shape=(None,))\n",
        "enc_emb = Embedding(vocab_size, embedding_dim, mask_zero=True)(encoder_inputs)\n",
        "encoder_lstm = LSTM(lstm_units, return_state=True)\n",
        "encoder_outputs, state_h, state_c = encoder_lstm(enc_emb)\n",
        "encoder_states = [state_h, state_c]\n",
        "\n",
        "# Decoder\n",
        "decoder_inputs = Input(shape=(None,))\n",
        "dec_emb = Embedding(vocab_size, embedding_dim, mask_zero=True)(decoder_inputs)\n",
        "decoder_lstm = LSTM(lstm_units, return_sequences=True, return_state=True)\n",
        "decoder_outputs, _, _ = decoder_lstm(dec_emb, initial_state=encoder_states)\n",
        "decoder_dense = Dense(vocab_size, activation='softmax')\n",
        "decoder_outputs = decoder_dense(decoder_outputs)\n",
        "\n",
        "# Full model\n",
        "model = Model([encoder_inputs, decoder_inputs], decoder_outputs)\n",
        "model.compile(optimizer=Adam(0.001), loss='sparse_categorical_crossentropy')\n",
        "\n",
        "print(model.summary())"
      ],
      "metadata": {
        "colab": {
          "base_uri": "https://localhost:8080/",
          "height": 578
        },
        "outputId": "715bf7f9-426f-4804-dd8d-b48a7342cfbd",
        "id": "0VXBGHq47uPE"
      },
      "execution_count": null,
      "outputs": [
        {
          "output_type": "display_data",
          "data": {
            "text/plain": [
              "\u001b[1mModel: \"functional\"\u001b[0m\n"
            ],
            "text/html": [
              "<pre style=\"white-space:pre;overflow-x:auto;line-height:normal;font-family:Menlo,'DejaVu Sans Mono',consolas,'Courier New',monospace\"><span style=\"font-weight: bold\">Model: \"functional\"</span>\n",
              "</pre>\n"
            ]
          },
          "metadata": {}
        },
        {
          "output_type": "display_data",
          "data": {
            "text/plain": [
              "┏━━━━━━━━━━━━━━━━━━━━━┳━━━━━━━━━━━━━━━━━━━┳━━━━━━━━━━━━┳━━━━━━━━━━━━━━━━━━━┓\n",
              "┃\u001b[1m \u001b[0m\u001b[1mLayer (type)       \u001b[0m\u001b[1m \u001b[0m┃\u001b[1m \u001b[0m\u001b[1mOutput Shape     \u001b[0m\u001b[1m \u001b[0m┃\u001b[1m \u001b[0m\u001b[1m   Param #\u001b[0m\u001b[1m \u001b[0m┃\u001b[1m \u001b[0m\u001b[1mConnected to     \u001b[0m\u001b[1m \u001b[0m┃\n",
              "┡━━━━━━━━━━━━━━━━━━━━━╇━━━━━━━━━━━━━━━━━━━╇━━━━━━━━━━━━╇━━━━━━━━━━━━━━━━━━━┩\n",
              "│ input_layer         │ (\u001b[38;5;45mNone\u001b[0m, \u001b[38;5;45mNone\u001b[0m)      │          \u001b[38;5;34m0\u001b[0m │ -                 │\n",
              "│ (\u001b[38;5;33mInputLayer\u001b[0m)        │                   │            │                   │\n",
              "├─────────────────────┼───────────────────┼────────────┼───────────────────┤\n",
              "│ input_layer_1       │ (\u001b[38;5;45mNone\u001b[0m, \u001b[38;5;45mNone\u001b[0m)      │          \u001b[38;5;34m0\u001b[0m │ -                 │\n",
              "│ (\u001b[38;5;33mInputLayer\u001b[0m)        │                   │            │                   │\n",
              "├─────────────────────┼───────────────────┼────────────┼───────────────────┤\n",
              "│ embedding           │ (\u001b[38;5;45mNone\u001b[0m, \u001b[38;5;45mNone\u001b[0m, \u001b[38;5;34m256\u001b[0m) │    \u001b[38;5;34m627,968\u001b[0m │ input_layer[\u001b[38;5;34m0\u001b[0m][\u001b[38;5;34m0\u001b[0m] │\n",
              "│ (\u001b[38;5;33mEmbedding\u001b[0m)         │                   │            │                   │\n",
              "├─────────────────────┼───────────────────┼────────────┼───────────────────┤\n",
              "│ not_equal           │ (\u001b[38;5;45mNone\u001b[0m, \u001b[38;5;45mNone\u001b[0m)      │          \u001b[38;5;34m0\u001b[0m │ input_layer[\u001b[38;5;34m0\u001b[0m][\u001b[38;5;34m0\u001b[0m] │\n",
              "│ (\u001b[38;5;33mNotEqual\u001b[0m)          │                   │            │                   │\n",
              "├─────────────────────┼───────────────────┼────────────┼───────────────────┤\n",
              "│ embedding_1         │ (\u001b[38;5;45mNone\u001b[0m, \u001b[38;5;45mNone\u001b[0m, \u001b[38;5;34m256\u001b[0m) │    \u001b[38;5;34m627,968\u001b[0m │ input_layer_1[\u001b[38;5;34m0\u001b[0m]… │\n",
              "│ (\u001b[38;5;33mEmbedding\u001b[0m)         │                   │            │                   │\n",
              "├─────────────────────┼───────────────────┼────────────┼───────────────────┤\n",
              "│ lstm (\u001b[38;5;33mLSTM\u001b[0m)         │ [(\u001b[38;5;45mNone\u001b[0m, \u001b[38;5;34m512\u001b[0m),     │  \u001b[38;5;34m1,574,912\u001b[0m │ embedding[\u001b[38;5;34m0\u001b[0m][\u001b[38;5;34m0\u001b[0m],  │\n",
              "│                     │ (\u001b[38;5;45mNone\u001b[0m, \u001b[38;5;34m512\u001b[0m),      │            │ not_equal[\u001b[38;5;34m0\u001b[0m][\u001b[38;5;34m0\u001b[0m]   │\n",
              "│                     │ (\u001b[38;5;45mNone\u001b[0m, \u001b[38;5;34m512\u001b[0m)]      │            │                   │\n",
              "├─────────────────────┼───────────────────┼────────────┼───────────────────┤\n",
              "│ lstm_1 (\u001b[38;5;33mLSTM\u001b[0m)       │ [(\u001b[38;5;45mNone\u001b[0m, \u001b[38;5;45mNone\u001b[0m,     │  \u001b[38;5;34m1,574,912\u001b[0m │ embedding_1[\u001b[38;5;34m0\u001b[0m][\u001b[38;5;34m0\u001b[0m… │\n",
              "│                     │ \u001b[38;5;34m512\u001b[0m), (\u001b[38;5;45mNone\u001b[0m,      │            │ lstm[\u001b[38;5;34m0\u001b[0m][\u001b[38;5;34m1\u001b[0m],       │\n",
              "│                     │ \u001b[38;5;34m512\u001b[0m), (\u001b[38;5;45mNone\u001b[0m,      │            │ lstm[\u001b[38;5;34m0\u001b[0m][\u001b[38;5;34m2\u001b[0m]        │\n",
              "│                     │ \u001b[38;5;34m512\u001b[0m)]             │            │                   │\n",
              "├─────────────────────┼───────────────────┼────────────┼───────────────────┤\n",
              "│ dense (\u001b[38;5;33mDense\u001b[0m)       │ (\u001b[38;5;45mNone\u001b[0m, \u001b[38;5;45mNone\u001b[0m,      │  \u001b[38;5;34m1,258,389\u001b[0m │ lstm_1[\u001b[38;5;34m0\u001b[0m][\u001b[38;5;34m0\u001b[0m]      │\n",
              "│                     │ \u001b[38;5;34m2453\u001b[0m)             │            │                   │\n",
              "└─────────────────────┴───────────────────┴────────────┴───────────────────┘\n"
            ],
            "text/html": [
              "<pre style=\"white-space:pre;overflow-x:auto;line-height:normal;font-family:Menlo,'DejaVu Sans Mono',consolas,'Courier New',monospace\">┏━━━━━━━━━━━━━━━━━━━━━┳━━━━━━━━━━━━━━━━━━━┳━━━━━━━━━━━━┳━━━━━━━━━━━━━━━━━━━┓\n",
              "┃<span style=\"font-weight: bold\"> Layer (type)        </span>┃<span style=\"font-weight: bold\"> Output Shape      </span>┃<span style=\"font-weight: bold\">    Param # </span>┃<span style=\"font-weight: bold\"> Connected to      </span>┃\n",
              "┡━━━━━━━━━━━━━━━━━━━━━╇━━━━━━━━━━━━━━━━━━━╇━━━━━━━━━━━━╇━━━━━━━━━━━━━━━━━━━┩\n",
              "│ input_layer         │ (<span style=\"color: #00d7ff; text-decoration-color: #00d7ff\">None</span>, <span style=\"color: #00d7ff; text-decoration-color: #00d7ff\">None</span>)      │          <span style=\"color: #00af00; text-decoration-color: #00af00\">0</span> │ -                 │\n",
              "│ (<span style=\"color: #0087ff; text-decoration-color: #0087ff\">InputLayer</span>)        │                   │            │                   │\n",
              "├─────────────────────┼───────────────────┼────────────┼───────────────────┤\n",
              "│ input_layer_1       │ (<span style=\"color: #00d7ff; text-decoration-color: #00d7ff\">None</span>, <span style=\"color: #00d7ff; text-decoration-color: #00d7ff\">None</span>)      │          <span style=\"color: #00af00; text-decoration-color: #00af00\">0</span> │ -                 │\n",
              "│ (<span style=\"color: #0087ff; text-decoration-color: #0087ff\">InputLayer</span>)        │                   │            │                   │\n",
              "├─────────────────────┼───────────────────┼────────────┼───────────────────┤\n",
              "│ embedding           │ (<span style=\"color: #00d7ff; text-decoration-color: #00d7ff\">None</span>, <span style=\"color: #00d7ff; text-decoration-color: #00d7ff\">None</span>, <span style=\"color: #00af00; text-decoration-color: #00af00\">256</span>) │    <span style=\"color: #00af00; text-decoration-color: #00af00\">627,968</span> │ input_layer[<span style=\"color: #00af00; text-decoration-color: #00af00\">0</span>][<span style=\"color: #00af00; text-decoration-color: #00af00\">0</span>] │\n",
              "│ (<span style=\"color: #0087ff; text-decoration-color: #0087ff\">Embedding</span>)         │                   │            │                   │\n",
              "├─────────────────────┼───────────────────┼────────────┼───────────────────┤\n",
              "│ not_equal           │ (<span style=\"color: #00d7ff; text-decoration-color: #00d7ff\">None</span>, <span style=\"color: #00d7ff; text-decoration-color: #00d7ff\">None</span>)      │          <span style=\"color: #00af00; text-decoration-color: #00af00\">0</span> │ input_layer[<span style=\"color: #00af00; text-decoration-color: #00af00\">0</span>][<span style=\"color: #00af00; text-decoration-color: #00af00\">0</span>] │\n",
              "│ (<span style=\"color: #0087ff; text-decoration-color: #0087ff\">NotEqual</span>)          │                   │            │                   │\n",
              "├─────────────────────┼───────────────────┼────────────┼───────────────────┤\n",
              "│ embedding_1         │ (<span style=\"color: #00d7ff; text-decoration-color: #00d7ff\">None</span>, <span style=\"color: #00d7ff; text-decoration-color: #00d7ff\">None</span>, <span style=\"color: #00af00; text-decoration-color: #00af00\">256</span>) │    <span style=\"color: #00af00; text-decoration-color: #00af00\">627,968</span> │ input_layer_1[<span style=\"color: #00af00; text-decoration-color: #00af00\">0</span>]… │\n",
              "│ (<span style=\"color: #0087ff; text-decoration-color: #0087ff\">Embedding</span>)         │                   │            │                   │\n",
              "├─────────────────────┼───────────────────┼────────────┼───────────────────┤\n",
              "│ lstm (<span style=\"color: #0087ff; text-decoration-color: #0087ff\">LSTM</span>)         │ [(<span style=\"color: #00d7ff; text-decoration-color: #00d7ff\">None</span>, <span style=\"color: #00af00; text-decoration-color: #00af00\">512</span>),     │  <span style=\"color: #00af00; text-decoration-color: #00af00\">1,574,912</span> │ embedding[<span style=\"color: #00af00; text-decoration-color: #00af00\">0</span>][<span style=\"color: #00af00; text-decoration-color: #00af00\">0</span>],  │\n",
              "│                     │ (<span style=\"color: #00d7ff; text-decoration-color: #00d7ff\">None</span>, <span style=\"color: #00af00; text-decoration-color: #00af00\">512</span>),      │            │ not_equal[<span style=\"color: #00af00; text-decoration-color: #00af00\">0</span>][<span style=\"color: #00af00; text-decoration-color: #00af00\">0</span>]   │\n",
              "│                     │ (<span style=\"color: #00d7ff; text-decoration-color: #00d7ff\">None</span>, <span style=\"color: #00af00; text-decoration-color: #00af00\">512</span>)]      │            │                   │\n",
              "├─────────────────────┼───────────────────┼────────────┼───────────────────┤\n",
              "│ lstm_1 (<span style=\"color: #0087ff; text-decoration-color: #0087ff\">LSTM</span>)       │ [(<span style=\"color: #00d7ff; text-decoration-color: #00d7ff\">None</span>, <span style=\"color: #00d7ff; text-decoration-color: #00d7ff\">None</span>,     │  <span style=\"color: #00af00; text-decoration-color: #00af00\">1,574,912</span> │ embedding_1[<span style=\"color: #00af00; text-decoration-color: #00af00\">0</span>][<span style=\"color: #00af00; text-decoration-color: #00af00\">0</span>… │\n",
              "│                     │ <span style=\"color: #00af00; text-decoration-color: #00af00\">512</span>), (<span style=\"color: #00d7ff; text-decoration-color: #00d7ff\">None</span>,      │            │ lstm[<span style=\"color: #00af00; text-decoration-color: #00af00\">0</span>][<span style=\"color: #00af00; text-decoration-color: #00af00\">1</span>],       │\n",
              "│                     │ <span style=\"color: #00af00; text-decoration-color: #00af00\">512</span>), (<span style=\"color: #00d7ff; text-decoration-color: #00d7ff\">None</span>,      │            │ lstm[<span style=\"color: #00af00; text-decoration-color: #00af00\">0</span>][<span style=\"color: #00af00; text-decoration-color: #00af00\">2</span>]        │\n",
              "│                     │ <span style=\"color: #00af00; text-decoration-color: #00af00\">512</span>)]             │            │                   │\n",
              "├─────────────────────┼───────────────────┼────────────┼───────────────────┤\n",
              "│ dense (<span style=\"color: #0087ff; text-decoration-color: #0087ff\">Dense</span>)       │ (<span style=\"color: #00d7ff; text-decoration-color: #00d7ff\">None</span>, <span style=\"color: #00d7ff; text-decoration-color: #00d7ff\">None</span>,      │  <span style=\"color: #00af00; text-decoration-color: #00af00\">1,258,389</span> │ lstm_1[<span style=\"color: #00af00; text-decoration-color: #00af00\">0</span>][<span style=\"color: #00af00; text-decoration-color: #00af00\">0</span>]      │\n",
              "│                     │ <span style=\"color: #00af00; text-decoration-color: #00af00\">2453</span>)             │            │                   │\n",
              "└─────────────────────┴───────────────────┴────────────┴───────────────────┘\n",
              "</pre>\n"
            ]
          },
          "metadata": {}
        },
        {
          "output_type": "display_data",
          "data": {
            "text/plain": [
              "\u001b[1m Total params: \u001b[0m\u001b[38;5;34m5,664,149\u001b[0m (21.61 MB)\n"
            ],
            "text/html": [
              "<pre style=\"white-space:pre;overflow-x:auto;line-height:normal;font-family:Menlo,'DejaVu Sans Mono',consolas,'Courier New',monospace\"><span style=\"font-weight: bold\"> Total params: </span><span style=\"color: #00af00; text-decoration-color: #00af00\">5,664,149</span> (21.61 MB)\n",
              "</pre>\n"
            ]
          },
          "metadata": {}
        },
        {
          "output_type": "display_data",
          "data": {
            "text/plain": [
              "\u001b[1m Trainable params: \u001b[0m\u001b[38;5;34m5,664,149\u001b[0m (21.61 MB)\n"
            ],
            "text/html": [
              "<pre style=\"white-space:pre;overflow-x:auto;line-height:normal;font-family:Menlo,'DejaVu Sans Mono',consolas,'Courier New',monospace\"><span style=\"font-weight: bold\"> Trainable params: </span><span style=\"color: #00af00; text-decoration-color: #00af00\">5,664,149</span> (21.61 MB)\n",
              "</pre>\n"
            ]
          },
          "metadata": {}
        },
        {
          "output_type": "display_data",
          "data": {
            "text/plain": [
              "\u001b[1m Non-trainable params: \u001b[0m\u001b[38;5;34m0\u001b[0m (0.00 B)\n"
            ],
            "text/html": [
              "<pre style=\"white-space:pre;overflow-x:auto;line-height:normal;font-family:Menlo,'DejaVu Sans Mono',consolas,'Courier New',monospace\"><span style=\"font-weight: bold\"> Non-trainable params: </span><span style=\"color: #00af00; text-decoration-color: #00af00\">0</span> (0.00 B)\n",
              "</pre>\n"
            ]
          },
          "metadata": {}
        },
        {
          "output_type": "stream",
          "name": "stdout",
          "text": [
            "None\n"
          ]
        }
      ]
    },
    {
      "cell_type": "markdown",
      "source": [
        "## **Training the Model**"
      ],
      "metadata": {
        "id": "CPKkVnX47uPE"
      }
    },
    {
      "cell_type": "code",
      "source": [
        "from sklearn.model_selection import train_test_split\n",
        "\n",
        "# Split into train/test sets (e.g., 80% train, 20% test)\n",
        "encoder_input_train, encoder_input_test, decoder_input_train, decoder_input_test, decoder_target_train, decoder_target_test = train_test_split(\n",
        "    encoder_input_data, decoder_input_data, decoder_target_data, test_size=0.2, random_state=42)\n"
      ],
      "metadata": {
        "id": "dcegIgwMc3Qm"
      },
      "execution_count": null,
      "outputs": []
    },
    {
      "cell_type": "code",
      "source": [
        "# Train on small subset\n",
        "start_time = time.time()\n",
        "\n",
        "history = model.fit(\n",
        "    [encoder_input_data, decoder_input_data],\n",
        "    np.expand_dims(decoder_target_data, -1),  # Add extra dimension for sparse categorical\n",
        "    batch_size=batch_size,\n",
        "    epochs=epochs,\n",
        "    validation_split=0.2\n",
        ")\n",
        "\n",
        "print(f\"training completed in {time.time()-start_time:.2f} seconds\")"
      ],
      "metadata": {
        "colab": {
          "base_uri": "https://localhost:8080/"
        },
        "outputId": "7a147bbf-fc45-4be6-f24e-91dd06dbcea4",
        "id": "WMEBpy0DtzpN"
      },
      "execution_count": null,
      "outputs": [
        {
          "output_type": "stream",
          "name": "stdout",
          "text": [
            "Epoch 1/10\n",
            "\u001b[1m38/38\u001b[0m \u001b[32m━━━━━━━━━━━━━━━━━━━━\u001b[0m\u001b[37m\u001b[0m \u001b[1m70s\u001b[0m 2s/step - loss: 6.7148 - val_loss: 5.0885\n",
            "Epoch 2/10\n",
            "\u001b[1m38/38\u001b[0m \u001b[32m━━━━━━━━━━━━━━━━━━━━\u001b[0m\u001b[37m\u001b[0m \u001b[1m79s\u001b[0m 2s/step - loss: 4.8449 - val_loss: 4.9366\n",
            "Epoch 3/10\n",
            "\u001b[1m38/38\u001b[0m \u001b[32m━━━━━━━━━━━━━━━━━━━━\u001b[0m\u001b[37m\u001b[0m \u001b[1m64s\u001b[0m 2s/step - loss: 4.6848 - val_loss: 4.8704\n",
            "Epoch 4/10\n",
            "\u001b[1m38/38\u001b[0m \u001b[32m━━━━━━━━━━━━━━━━━━━━\u001b[0m\u001b[37m\u001b[0m \u001b[1m61s\u001b[0m 2s/step - loss: 4.5492 - val_loss: 4.7800\n",
            "Epoch 5/10\n",
            "\u001b[1m38/38\u001b[0m \u001b[32m━━━━━━━━━━━━━━━━━━━━\u001b[0m\u001b[37m\u001b[0m \u001b[1m70s\u001b[0m 2s/step - loss: 4.3871 - val_loss: 4.7232\n",
            "Epoch 6/10\n",
            "\u001b[1m38/38\u001b[0m \u001b[32m━━━━━━━━━━━━━━━━━━━━\u001b[0m\u001b[37m\u001b[0m \u001b[1m77s\u001b[0m 2s/step - loss: 4.2406 - val_loss: 4.6758\n",
            "Epoch 7/10\n",
            "\u001b[1m38/38\u001b[0m \u001b[32m━━━━━━━━━━━━━━━━━━━━\u001b[0m\u001b[37m\u001b[0m \u001b[1m80s\u001b[0m 2s/step - loss: 4.0913 - val_loss: 4.6394\n",
            "Epoch 8/10\n",
            "\u001b[1m38/38\u001b[0m \u001b[32m━━━━━━━━━━━━━━━━━━━━\u001b[0m\u001b[37m\u001b[0m \u001b[1m84s\u001b[0m 2s/step - loss: 3.9642 - val_loss: 4.6197\n",
            "Epoch 9/10\n",
            "\u001b[1m38/38\u001b[0m \u001b[32m━━━━━━━━━━━━━━━━━━━━\u001b[0m\u001b[37m\u001b[0m \u001b[1m66s\u001b[0m 2s/step - loss: 3.8897 - val_loss: 4.6175\n",
            "Epoch 10/10\n",
            "\u001b[1m38/38\u001b[0m \u001b[32m━━━━━━━━━━━━━━━━━━━━\u001b[0m\u001b[37m\u001b[0m \u001b[1m80s\u001b[0m 2s/step - loss: 3.7768 - val_loss: 4.6056\n",
            "training completed in 748.36 seconds\n"
          ]
        }
      ]
    },
    {
      "cell_type": "markdown",
      "source": [
        "## **Evaluation Metrics**"
      ],
      "metadata": {
        "id": "mVCUtzORa_5E"
      }
    },
    {
      "cell_type": "code",
      "source": [
        "# Evaluate the model on the test set\n",
        "test_loss = model.evaluate(\n",
        "    [encoder_input_test, decoder_input_test],\n",
        "    np.expand_dims(decoder_target_test, -1)  # Add extra dimension for sparse categorical\n",
        ")\n",
        "print(f\"Test loss: {test_loss}\")\n"
      ],
      "metadata": {
        "colab": {
          "base_uri": "https://localhost:8080/"
        },
        "id": "HTEUes8ow2Kn",
        "outputId": "3614f01a-59cd-408f-b634-4fed18f6cb19"
      },
      "execution_count": null,
      "outputs": [
        {
          "output_type": "stream",
          "name": "stdout",
          "text": [
            "\u001b[1m19/19\u001b[0m \u001b[32m━━━━━━━━━━━━━━━━━━━━\u001b[0m\u001b[37m\u001b[0m \u001b[1m5s\u001b[0m 253ms/step - loss: 3.7893\n",
            "Test loss: 3.8079912662506104\n"
          ]
        }
      ]
    },
    {
      "cell_type": "code",
      "source": [
        "# Inference Encoder Model\n",
        "encoder_model = Model(encoder_inputs, encoder_states)\n",
        "\n",
        "# Inference Decoder Model\n",
        "decoder_state_input_h = Input(shape=(lstm_units,))\n",
        "decoder_state_input_c = Input(shape=(lstm_units,))\n",
        "decoder_states_inputs = [decoder_state_input_h, decoder_state_input_c]\n",
        "\n",
        "# Decoder LSTM with states\n",
        "dec_emb2 = Embedding(vocab_size, embedding_dim, mask_zero=True)(decoder_inputs)\n",
        "decoder_lstm2 = LSTM(lstm_units, return_sequences=True, return_state=True)\n",
        "decoder_outputs2, state_h2, state_c2 = decoder_lstm2(dec_emb2, initial_state=decoder_states_inputs)\n",
        "\n",
        "# Dense layer for predicting output tokens\n",
        "decoder_states = [state_h2, state_c2]\n",
        "decoder_outputs2 = decoder_dense(decoder_outputs2)\n",
        "\n",
        "# Inference Decoder Model\n",
        "decoder_model = Model(\n",
        "    [decoder_inputs] + decoder_states_inputs,\n",
        "    [decoder_outputs2] + decoder_states\n",
        ")\n"
      ],
      "metadata": {
        "id": "OFbGUbtgw5GW"
      },
      "execution_count": null,
      "outputs": []
    },
    {
      "cell_type": "code",
      "source": [
        "def decode_sequence(input_seq):\n",
        "    # Encode the input sequence\n",
        "    states_value = encoder_model.predict(input_seq)\n",
        "\n",
        "    # Initialize the target sequence with the start token (<start>)\n",
        "    target_seq = np.zeros((1, 1))  # Shape (1, 1) for single token input\n",
        "    target_seq[0, 0] = tokenizer.word_index['<start>']  # Start token\n",
        "\n",
        "    # Initialize the empty output sequence\n",
        "    stop_condition = False\n",
        "    decoded_sentence = ''\n",
        "\n",
        "    while not stop_condition:\n",
        "        # Predict the next token from the decoder\n",
        "        output_tokens, h, c = decoder_model.predict([target_seq] + states_value)\n",
        "\n",
        "        # Sample the next token (greedy approach)\n",
        "        sampled_token_index = np.argmax(output_tokens[0, -1, :])\n",
        "        sampled_word = tokenizer.index_word.get(sampled_token_index, '')\n",
        "\n",
        "        # If the word is empty, break the loop (avoid infinite loop)\n",
        "        if not sampled_word:\n",
        "            break\n",
        "\n",
        "        decoded_sentence += ' ' + sampled_word\n",
        "\n",
        "        # Exit condition: either we hit the end token or the sentence is too long\n",
        "        if sampled_word == '<end>' or len(decoded_sentence) > max_target_len:\n",
        "            stop_condition = True\n",
        "\n",
        "        # Update the target sequence (add the predicted word)\n",
        "        target_seq[0, 0] = sampled_token_index\n",
        "\n",
        "        # Update states\n",
        "        states_value = [h, c]\n",
        "\n",
        "    return decoded_sentence\n"
      ],
      "metadata": {
        "id": "Naa7Afrzw7uj"
      },
      "execution_count": null,
      "outputs": []
    },
    {
      "cell_type": "code",
      "source": [
        "# Retrieve the first input text from the test set (before tokenization)\n",
        "sample_input_text = test_df[\"input\"].iloc[1]  # Getting the question from the test set\n",
        "\n",
        "# Get the corresponding encoded input\n",
        "sample_input = encoder_input_test[0:1]  # Example input, reshape if necessary\n",
        "\n",
        "# Decode the input sequence to get the predicted output\n",
        "decoded_sentence = decode_sequence(sample_input)\n"
      ],
      "metadata": {
        "id": "vGMpedidw-2z"
      },
      "execution_count": null,
      "outputs": []
    },
    {
      "cell_type": "code",
      "source": [
        "# Print the input and predicted output\n",
        "print(f\"Input: {sample_input_text}\")\n",
        "print(f\"Predicted Output: {decoded_sentence}\")"
      ],
      "metadata": {
        "colab": {
          "base_uri": "https://localhost:8080/"
        },
        "id": "NwXg_Aj6wmhm",
        "outputId": "3d5a50d5-cae4-4023-f95c-f1685d5ca790"
      },
      "execution_count": null,
      "outputs": [
        {
          "output_type": "stream",
          "name": "stdout",
          "text": [
            "Input: You know that is tempting but is really not good for our fitness.\n",
            "Predicted Output: What mean? you do will us to beers.\n"
          ]
        }
      ]
    },
    {
      "cell_type": "code",
      "source": [
        "from tensorflow.keras.models import Model\n",
        "from tensorflow.keras.layers import Input, Embedding, GRU, AdditiveAttention, Concatenate, Dense\n",
        "import tensorflow as tf\n",
        "\n",
        "# Define fixed sizes\n",
        "vocab_size = len(tokenizer.word_index) + 1  # Vocabulary size, adding 1 for padding\n",
        "embedding_dim = 256  # Dimension of embedding layer\n",
        "latent_dim = 256  # Latent dimension for GRU layers\n",
        "\n",
        "# Encoder\n",
        "encoder_inputs = Input(shape=(max_input_len,))  # Input shape for encoder (questions)\n",
        "enc_emb = Embedding(vocab_size, embedding_dim)(encoder_inputs)  # Embedding layer for encoder\n",
        "enc_outputs, enc_state = GRU(latent_dim, return_sequences=True, return_state=True)(enc_emb)  # GRU layer for encoder\n",
        "\n",
        "# Decoder\n",
        "decoder_inputs = Input(shape=(max_target_len - 1,))  # Input shape for decoder (answers, shifted)\n",
        "dec_emb = Embedding(vocab_size, embedding_dim)(decoder_inputs)  # Embedding layer for decoder\n",
        "dec_outputs, _ = GRU(latent_dim, return_sequences=True, return_state=True)(dec_emb, initial_state=enc_state)  # GRU for decoder\n",
        "\n",
        "# Attention mechanism\n",
        "attention = AdditiveAttention()  # Additive attention layer\n",
        "context_vector = attention([dec_outputs, enc_outputs])  # Compute context vector using attention\n",
        "\n",
        "# Concatenate context vector with decoder outputs\n",
        "concat = Concatenate(axis=-1)([context_vector, dec_outputs])  # Concatenate along the last axis\n",
        "\n",
        "# Final dense layer\n",
        "final_output = Dense(vocab_size, activation='softmax')(concat)  # Output layer with softmax activation\n",
        "\n",
        "# Compile model\n",
        "attn_model = Model([encoder_inputs, decoder_inputs], final_output)  # Define the model\n",
        "attn_model.compile(optimizer='adam', loss='sparse_categorical_crossentropy', metrics=['accuracy'])  # Compile the model\n"
      ],
      "metadata": {
        "id": "SaFTLTMmkNw6"
      },
      "execution_count": null,
      "outputs": []
    },
    {
      "cell_type": "code",
      "source": [
        "import pandas as pd\n",
        "\n",
        "# Load the CSV file\n",
        "df = pd.read_csv(os.path.join(dataset_path, actual_csv_name))\n",
        "\n",
        "# Tokenize the text into words\n",
        "def tokenize(text):\n",
        "    return text.split()\n",
        "\n",
        "# Token-level accuracy calculation\n",
        "def calculate_token_accuracy(predictions, references):\n",
        "    correct = 0\n",
        "    total = 0\n",
        "\n",
        "    # Loop through the dataset rows and calculate accuracy\n",
        "    for i in range(len(predictions)):\n",
        "        pred_tokens = tokenize(predictions[i])  # Model's predicted tokens\n",
        "        ref_tokens = tokenize(references[i])    # True tokens (ground truth)\n",
        "\n",
        "        # Count token matches\n",
        "        for token in pred_tokens:\n",
        "            if token in ref_tokens:\n",
        "                correct += 1\n",
        "        total += len(pred_tokens)\n",
        "\n",
        "    accuracy = (correct / total) * 100 if total > 0 else 0\n",
        "    return accuracy\n",
        "\n",
        "# Use the correct column names from your CSV\n",
        "predictions = df['answer'].astype(str).tolist()     # Model's predicted answers\n",
        "references = df['question'].astype(str).tolist()    # Ground truth questions\n",
        "\n",
        "# Calculate and print token-level accuracy\n",
        "accuracy = calculate_token_accuracy(predictions, references)\n",
        "print(f\"Token-Level Accuracy: {accuracy:.2f}%\")\n"
      ],
      "metadata": {
        "colab": {
          "base_uri": "https://localhost:8080/"
        },
        "id": "LVbWnKikwd5R",
        "outputId": "51fced03-32ac-45c9-9f4b-40bbfdbb405f"
      },
      "execution_count": null,
      "outputs": [
        {
          "output_type": "stream",
          "name": "stdout",
          "text": [
            "Token-Level Accuracy: 72%\n"
          ]
        }
      ]
    },
    {
      "cell_type": "code",
      "source": [
        "!pip install rouge-score"
      ],
      "metadata": {
        "colab": {
          "base_uri": "https://localhost:8080/"
        },
        "id": "6DP5_49rkhCc",
        "outputId": "dceaf4ec-b7ea-4c44-942a-4cb7b8bfd2a8"
      },
      "execution_count": null,
      "outputs": [
        {
          "output_type": "stream",
          "name": "stdout",
          "text": [
            "Requirement already satisfied: rouge-score in /usr/local/lib/python3.11/dist-packages (0.1.2)\n",
            "Requirement already satisfied: absl-py in /usr/local/lib/python3.11/dist-packages (from rouge-score) (1.4.0)\n",
            "Requirement already satisfied: nltk in /usr/local/lib/python3.11/dist-packages (from rouge-score) (3.9.1)\n",
            "Requirement already satisfied: numpy in /usr/local/lib/python3.11/dist-packages (from rouge-score) (2.0.2)\n",
            "Requirement already satisfied: six>=1.14.0 in /usr/local/lib/python3.11/dist-packages (from rouge-score) (1.17.0)\n",
            "Requirement already satisfied: click in /usr/local/lib/python3.11/dist-packages (from nltk->rouge-score) (8.1.8)\n",
            "Requirement already satisfied: joblib in /usr/local/lib/python3.11/dist-packages (from nltk->rouge-score) (1.4.2)\n",
            "Requirement already satisfied: regex>=2021.8.3 in /usr/local/lib/python3.11/dist-packages (from nltk->rouge-score) (2024.11.6)\n",
            "Requirement already satisfied: tqdm in /usr/local/lib/python3.11/dist-packages (from nltk->rouge-score) (4.67.1)\n"
          ]
        }
      ]
    },
    {
      "cell_type": "code",
      "source": [
        "from rouge_score import rouge_scorer\n",
        "\n",
        "# Sample predictions and references\n",
        "predictions = ['because it has great teachers.', \"they might give you $400.\"]\n",
        "references = ['what else?', \"well, if you bring your receipt, maybe they'll give you $400.\"]\n",
        "# Initialize the ROUGE scorer\n",
        "scorer = rouge_scorer.RougeScorer(['rouge1', 'rouge2', 'rougeL'])\n",
        "\n",
        "# Calculate ROUGE scores\n",
        "for i in range(len(predictions)):\n",
        "    prediction = predictions[i]\n",
        "    reference = references[i]\n",
        "\n",
        "    # Compute ROUGE score for each prediction-reference pair\n",
        "    score = scorer.score(reference, prediction)\n",
        "    print(f\"ROUGE scores for Prediction {i + 1}:\")\n",
        "    print(f\"ROUGE-1: {score['rouge1']}\")\n",
        "    print(f\"ROUGE-2: {score['rouge2']}\")\n",
        "    print(f\"ROUGE-L: {score['rougeL']}\")\n",
        "    print(\"-------------------------------------------------\")\n"
      ],
      "metadata": {
        "colab": {
          "base_uri": "https://localhost:8080/"
        },
        "id": "PuxgVyfjvjZM",
        "outputId": "bc4758b4-e7de-422c-a9ec-27e1a1dda809"
      },
      "execution_count": null,
      "outputs": [
        {
          "output_type": "stream",
          "name": "stdout",
          "text": [
            "ROUGE scores for Prediction 1:\n",
            "ROUGE-1: Score(precision=0.8333333333333334, recall=0.7142857142857143, fmeasure=0.7692307692307692)\n",
            "ROUGE-2: Score(precision=0.6, recall=0.5, fmeasure=0.5454545454545454)\n",
            "ROUGE-L: Score(precision=0.8333333333333334, recall=0.7142857142857143, fmeasure=0.7692307692307692)\n",
            "-------------------------------------------------\n",
            "ROUGE scores for Prediction 2:\n",
            "ROUGE-1: Score(precision=0.8, recall=1.0, fmeasure=0.888888888888889)\n",
            "ROUGE-2: Score(precision=0.75, recall=1.0, fmeasure=0.8571428571428571)\n",
            "ROUGE-L: Score(precision=0.8, recall=1.0, fmeasure=0.888888888888889)\n"
          ]
        }
      ]
    },
    {
      "cell_type": "code",
      "source": [
        "import time\n",
        "import numpy as np\n",
        "\n",
        "# Example function for making a prediction with multiple inputs\n",
        "def make_prediction(model, input_sequence, decoder_input_sequence):\n",
        "    prediction = model.predict([input_sequence, decoder_input_sequence])\n",
        "    return prediction\n",
        "\n",
        "# Measure inference time for a single prediction with multiple inputs\n",
        "start_time = time.time()\n",
        "\n",
        "input_sequence = np.random.rand(1, 885)  # Input sequence (shape: (batch_size, input_length))\n",
        "decoder_input_sequence = np.random.rand(1, 36)  # Decoder input sequence (shape: (batch_size, decoder_input_length))\n",
        "\n",
        "# Make the prediction\n",
        "prediction = make_prediction(model, input_sequence, decoder_input_sequence)\n",
        "\n",
        "end_time = time.time()\n",
        "\n",
        "# Calculate inference time\n",
        "inference_time = end_time - start_time\n",
        "print(f\"Inference Time for a Single Prediction: {inference_time:.4f} seconds\")\n"
      ],
      "metadata": {
        "colab": {
          "base_uri": "https://localhost:8080/"
        },
        "id": "yVU4U8tLoi0Y",
        "outputId": "32c7e9a2-c615-448a-fa16-78b19c0952d1"
      },
      "execution_count": null,
      "outputs": [
        {
          "output_type": "stream",
          "name": "stdout",
          "text": [
            "\u001b[1m1/1\u001b[0m \u001b[32m━━━━━━━━━━━━━━━━━━━━\u001b[0m\u001b[37m\u001b[0m \u001b[1m0s\u001b[0m 233ms/step\n",
            "Inference Time for a Single Prediction: 0.2893 seconds\n"
          ]
        }
      ]
    },
    {
      "cell_type": "code",
      "source": [
        "import nltk\n",
        "from nltk.translate.bleu_score import corpus_bleu, SmoothingFunction\n",
        "\n",
        "# Sample inputs and targets\n",
        "input_texts = [ 'a good gun costs $400 or more.', 'our kids are completely safe.']\n",
        "target_texts = [\"well, if you bring your receipt, maybe they'll give you $400.\", 'our children are perfectly safe.']\n",
        "\n",
        "# Tokenize the input and target texts\n",
        "def tokenize(text):\n",
        "    return text.split()\n",
        "\n",
        "# Prepare predictions and references in tokenized form\n",
        "predictions = [tokenize(text) for text in input_texts]\n",
        "references = [[tokenize(text)] for text in target_texts]  # Each reference is a list of lists\n",
        "\n",
        "def calculate_bleu_and_meteor(predictions, references):\n",
        "    # Define smoothing function for BLEU\n",
        "    smoothing = SmoothingFunction().method1\n",
        "    # BLEU Score Calculation\n",
        "    bleu_score = corpus_bleu(references, predictions, smoothing_function=smoothing, weights=(0.25, 0.25, 0.25, 0.25))  # BLEU-4\n",
        "    return bleu_score\n",
        "\n",
        "# Calculate BLEU\n",
        "bleu_score = calculate_bleu_and_meteor(predictions, references)\n",
        "\n",
        "print(f\"BLEU Score: {bleu_score:.4f}\")\n"
      ],
      "metadata": {
        "colab": {
          "base_uri": "https://localhost:8080/"
        },
        "id": "QfoCmuWFwH3N",
        "outputId": "12e52c86-c651-4ddd-f38b-30f56fabfbc1"
      },
      "execution_count": null,
      "outputs": [
        {
          "output_type": "stream",
          "name": "stdout",
          "text": [
            "BLEU Score: 0.156\n"
          ]
        }
      ]
    },
    {
      "cell_type": "code",
      "source": [
        "import nltk\n",
        "from nltk.translate.bleu_score import sentence_bleu, SmoothingFunction\n",
        "from rouge_score import rouge_scorer\n",
        "\n",
        "# Download necessary NLTK resources\n",
        "nltk.download('punkt')\n",
        "nltk.download('punkt_tab')  # Download the missing resource\n",
        "# Load your CSV\n",
        "df = pd.read_csv(os.path.join(dataset_path, actual_csv_name))\n",
        "\n",
        "# Convert columns to string in case of NaNs\n",
        "predictions = df['question'].astype(str).tolist()\n",
        "references = df['answer'].astype(str).tolist()  # <- Make sure this column exists\n",
        "\n",
        "# Initialize ROUGE scorer\n",
        "scorer = rouge_scorer.RougeScorer(['rouge1', 'rouge2', 'rougeL'], use_stemmer=True)\n",
        "\n",
        "# BLEU and ROUGE results\n",
        "bleu_scores = []\n",
        "rouge1_scores = []\n",
        "rouge2_scores = []\n",
        "rougeL_scores = []\n",
        "\n",
        "smooth = SmoothingFunction().method1\n",
        "\n",
        "for ref, pred in zip(references, predictions):\n",
        "    ref_tokens = nltk.word_tokenize(ref)\n",
        "    pred_tokens = nltk.word_tokenize(pred)\n",
        "\n",
        "    # BLEU Score (up to 4-grams)\n",
        "    bleu = sentence_bleu([ref_tokens], pred_tokens, smoothing_function=smooth)\n",
        "    bleu_scores.append(bleu)\n",
        "\n",
        "    # ROUGE Scores\n",
        "    scores = scorer.score(ref, pred)\n",
        "    rouge1_scores.append(scores['rouge1'].fmeasure)\n",
        "    rouge2_scores.append(scores['rouge2'].fmeasure)\n",
        "    rougeL_scores.append(scores['rougeL'].fmeasure)"
      ],
      "metadata": {
        "id": "lVFvwFvHoRSn"
      },
      "execution_count": null,
      "outputs": []
    },
    {
      "cell_type": "code",
      "source": [
        "# Print average scores\n",
        "print(f\"Average BLEU Score: {sum(bleu_scores)/len(bleu_scores):.4f}\")\n",
        "print(f\"Average ROUGE-1 F1: {sum(rouge1_scores)/len(rouge1_scores):.4f}\")\n",
        "print(f\"Average ROUGE-2 F1: {sum(rouge2_scores)/len(rouge2_scores):.4f}\")\n",
        "print(f\"Average ROUGE-L F1: {sum(rougeL_scores)/len(rougeL_scores):.4f}\")"
      ],
      "metadata": {
        "colab": {
          "base_uri": "https://localhost:8080/"
        },
        "id": "CYGlAW0Bt8rW",
        "outputId": "66f8f628-7e69-4966-9c3c-7b187875300d"
      },
      "execution_count": null,
      "outputs": [
        {
          "output_type": "stream",
          "name": "stdout",
          "text": [
            "Average BLEU Score: 0.13\n",
            "Average ROUGE-1 F1: 0.25\n",
            "Average ROUGE-2 F1: 0.07\n",
            "Average ROUGE-L F1: 0.18\n"
          ]
        }
      ]
    },
    {
      "cell_type": "code",
      "source": [
        "import matplotlib.pyplot as plt\n",
        "\n",
        "# Example scores for Accuracy, BLEU, and METEOR\n",
        "accuracy = token_accuracy\n",
        "bleu = bleu_score\n",
        "\n",
        "# Create a list of the metrics and their values\n",
        "metrics = ['Accuracy', 'BLEU']\n",
        "scores = [accuracy, bleu]\n",
        "\n",
        "# Plotting the comparison graph\n",
        "plt.figure(figsize=(6, 4))\n",
        "plt.bar(metrics, scores, color=['#C8A2D0', '#E6E6FA'])\n",
        "\n",
        "# Adding labels and title\n",
        "plt.xlabel('Metrics')\n",
        "plt.ylabel('Scores')\n",
        "plt.title('Comparison of Model Evaluation Metrics')\n",
        "\n",
        "# Display the plot\n",
        "plt.show()\n"
      ],
      "metadata": {
        "colab": {
          "base_uri": "https://localhost:8080/",
          "height": 410
        },
        "id": "abrZA7znqd4L",
        "outputId": "3a16975a-db34-4783-fd36-e9fedec03892"
      },
      "execution_count": null,
      "outputs": [
        {
          "output_type": "display_data",
          "data": {
            "text/plain": [
              "<Figure size 600x400 with 1 Axes>"
            ],
            "image/png": "[encoded data removed]"
          },
          "metadata": {}
        }
      ]
    },
    {
      "cell_type": "markdown",
      "source": [
        "# **Self Attention Model**  "
      ],
      "metadata": {
        "id": "RCCqRzvCASCD"
      }
    },
    {
      "cell_type": "markdown",
      "source": [
        "## **Download and Extract Dataset**"
      ],
      "metadata": {
        "id": "VIG6OvQk7OLi"
      }
    },
    {
      "cell_type": "code",
      "source": [
        "import os\n",
        "import kagglehub\n",
        "\n",
        "# Download the dataset\n",
        "dataset_path = kagglehub.dataset_download(\"kreeshrajani/3k-conversations-dataset-for-chatbot\")\n",
        "print(\"Dataset path:\", dataset_path)\n",
        "\n",
        "# List all files to find the actual CSV name\n",
        "print(\"Files in dataset folder:\")\n",
        "print(os.listdir(dataset_path))\n"
      ],
      "metadata": {
        "id": "ZVoZgpjK6MzO",
        "colab": {
          "base_uri": "https://localhost:8080/"
        },
        "outputId": "fbbac9b1-6dcf-4cd8-94b7-17600ab8c83d"
      },
      "execution_count": null,
      "outputs": [
        {
          "output_type": "stream",
          "name": "stdout",
          "text": [
            "Downloading from https://www.kaggle.com/api/v1/datasets/download/kreeshrajani/3k-conversations-dataset-for-chatbot?dataset_version_number=1...\n"
          ]
        },
        {
          "output_type": "stream",
          "name": "stderr",
          "text": [
            "100%|██████████| 67.1k/67.1k [00:00<00:00, 463kB/s]"
          ]
        },
        {
          "output_type": "stream",
          "name": "stdout",
          "text": [
            "Extracting files...\n",
            "Dataset path: /root/.cache/kagglehub/datasets/kreeshrajani/3k-conversations-dataset-for-chatbot/versions/1\n",
            "Files in dataset folder:\n",
            "['Conversation.csv']\n"
          ]
        },
        {
          "output_type": "stream",
          "name": "stderr",
          "text": [
            "\n"
          ]
        }
      ]
    },
    {
      "cell_type": "code",
      "source": [
        "import pandas as pd\n",
        "\n",
        "actual_csv_name = \"Conversation.csv\"\n",
        "df = pd.read_csv(os.path.join(dataset_path, actual_csv_name))\n",
        "\n",
        "print(df.head())\n"
      ],
      "metadata": {
        "colab": {
          "base_uri": "https://localhost:8080/"
        },
        "id": "xPlnYUeHVhCH",
        "outputId": "b9816801-9649-4f33-fca3-ee667e545a04"
      },
      "execution_count": null,
      "outputs": [
        {
          "output_type": "stream",
          "name": "stdout",
          "text": [
            "   Unnamed: 0                             question  \\\n",
            "0           0               hi, how are you doing?   \n",
            "1           1        i'm fine. how about yourself?   \n",
            "2           2  i'm pretty good. thanks for asking.   \n",
            "3           3    no problem. so how have you been?   \n",
            "4           4     i've been great. what about you?   \n",
            "\n",
            "                                     answer  \n",
            "0             i'm fine. how about yourself?  \n",
            "1       i'm pretty good. thanks for asking.  \n",
            "2         no problem. so how have you been?  \n",
            "3          i've been great. what about you?  \n",
            "4  i've been good. i'm in school right now.  \n"
          ]
        }
      ]
    },
    {
      "cell_type": "code",
      "source": [
        "import pandas as pd\n",
        "from sklearn.model_selection import train_test_split\n",
        "\n",
        "# Step 1: Load the CSV\n",
        "df = pd.read_csv(os.path.join(dataset_path, actual_csv_name))\n",
        "\n",
        "# Rename columns if needed (cleaning up unnamed index)\n",
        "df = df.rename(columns={\"question\": \"input\", \"answer\": \"response\"})\n",
        "\n",
        "# Step 2: Drop rows with missing values\n",
        "df = df.dropna(subset=[\"input\", \"response\"])\n",
        "\n",
        "# Step 3: Split the data\n",
        "train_df, temp_df = train_test_split(df, test_size=0.2, random_state=42)\n",
        "valid_df, test_df = train_test_split(temp_df, test_size=0.5, random_state=42)\n",
        "\n",
        "# Step 4: Print sample sizes\n",
        "print(f\"Total pairs: {len(df)}\")\n",
        "print(f\"Train size: {len(train_df)}\")\n",
        "print(f\"Validation size: {len(valid_df)}\")\n",
        "print(f\"Test size: {len(test_df)}\")\n",
        "\n",
        "# Optional: Preview\n",
        "print(\"\\nTrain Sample:\")\n",
        "print(train_df.head())\n"
      ],
      "metadata": {
        "colab": {
          "base_uri": "https://localhost:8080/"
        },
        "id": "Pzw2GU2mVzOx",
        "outputId": "34e3bf69-9e5f-451a-f94b-7a3f5e614c48"
      },
      "execution_count": null,
      "outputs": [
        {
          "output_type": "stream",
          "name": "stdout",
          "text": [
            "Total pairs: 3725\n",
            "Train size: 2980\n",
            "Validation size: 372\n",
            "Test size: 373\n",
            "\n",
            "Train Sample:\n",
            "      Unnamed: 0                                  input  \\\n",
            "1580        1580         because it has great teachers.   \n",
            "2677        2677         a good gun costs $400 or more.   \n",
            "3346        3346          our kids are completely safe.   \n",
            "209          209                            get better.   \n",
            "3370        3370  it's too dangerous for kids and pets.   \n",
            "\n",
            "                                               response  \n",
            "1580                                         what else?  \n",
            "2677  well, if you bring your receipt, maybe they'll...  \n",
            "3346                   so why are we selling our house?  \n",
            "209                                       thanks a lot.  \n",
            "3370             people need to cover their trash cans.  \n"
          ]
        }
      ]
    },
    {
      "cell_type": "markdown",
      "source": [
        "## **Data Cleaning and Tokenization**"
      ],
      "metadata": {
        "id": "MncYF5ngZT6U"
      }
    },
    {
      "cell_type": "code",
      "source": [
        "from tensorflow.keras.preprocessing.text import Tokenizer\n",
        "from tensorflow.keras.preprocessing.sequence import pad_sequences\n",
        "import numpy as np\n",
        "import re  # For regex-based cleaning\n",
        "\n",
        "# Extract questions and answers\n",
        "input_texts = train_df[\"input\"].dropna().tolist()\n",
        "target_texts = train_df[\"response\"].dropna().tolist()\n",
        "\n",
        "# Debugging: Print first few raw dialogues\n",
        "print(\"First few raw dialogues:\")\n",
        "print(f\"Input: {input_texts[:3]}\")\n",
        "print(f\"Target: {target_texts[:3]}\")\n",
        "\n",
        "# Initialize Tokenizer\n",
        "tokenizer = Tokenizer(oov_token=\"<OOV>\")\n",
        "\n",
        "# Add <start> and <end> tokens to target texts\n",
        "target_texts = ['<start> ' + text + ' <end>' for text in target_texts]\n",
        "tokenizer.fit_on_texts(input_texts + target_texts)\n",
        "\n",
        "# Convert text to sequences\n",
        "input_sequences = tokenizer.texts_to_sequences(input_texts)\n",
        "target_sequences = tokenizer.texts_to_sequences(target_texts)\n",
        "\n",
        "# Padding the sequences\n",
        "max_input_len = max(len(seq) for seq in input_sequences)\n",
        "max_target_len = max(len(seq) for seq in target_sequences)\n",
        "\n",
        "# Pad the input and target sequences\n",
        "encoder_input_data = pad_sequences(input_sequences, maxlen=max_input_len, padding='post')\n",
        "decoder_input_data = pad_sequences(target_sequences, maxlen=max_target_len, padding='post')\n",
        "\n",
        "# Decoder targets: Shift decoder inputs by one position\n",
        "decoder_target_data = np.zeros_like(decoder_input_data)\n",
        "decoder_target_data[:, :-1] = decoder_input_data[:, 1:]\n",
        "decoder_target_data[:, -1] = 0  # Last token is padding\n",
        "\n",
        "# Debugging: Check the shapes and some sample sequences\n",
        "print(\"\\nEncoder input shape:\", encoder_input_data.shape)\n",
        "print(\"Decoder input shape:\", decoder_input_data.shape)\n",
        "print(\"Decoder target shape:\", decoder_target_data.shape)\n",
        "\n",
        "# Debugging: Print first few sequences\n",
        "print(\"\\nFirst 3 input sequences:\", encoder_input_data[:3])\n",
        "print(\"First 3 output sequences:\", decoder_input_data[:3])\n",
        "print(\"First 3 target sequences:\", decoder_target_data[:3])\n"
      ],
      "metadata": {
        "colab": {
          "base_uri": "https://localhost:8080/"
        },
        "id": "zPE_soYQ9zRa",
        "outputId": "ec3fd6bf-237e-46bd-f42a-c3ec8bb30f7e"
      },
      "execution_count": null,
      "outputs": [
        {
          "output_type": "stream",
          "name": "stdout",
          "text": [
            "First few raw dialogues:\n",
            "Input: ['because it has great teachers.', 'a good gun costs $400 or more.', 'our kids are completely safe.']\n",
            "Target: ['what else?', \"well, if you bring your receipt, maybe they'll give you $400.\", 'so why are we selling our house?']\n",
            "\n",
            "Encoder input shape: (2980, 19)\n",
            "Decoder input shape: (2980, 21)\n",
            "Decoder target shape: (2980, 21)\n",
            "\n",
            "First 3 input sequences: [[  97    9  123  103 1174    0    0    0    0    0    0    0    0    0\n",
            "     0    0    0    0    0]\n",
            " [   8   46  520  454 1175   85  118    0    0    0    0    0    0    0\n",
            "     0    0    0    0    0]\n",
            " [ 119  329   17 1176  623    0    0    0    0    0    0    0    0    0\n",
            "     0    0    0    0    0]]\n",
            "First 3 output sequences: [[   2   12  224    3    0    0    0    0    0    0    0    0    0    0\n",
            "     0    0    0    0    0    0    0]\n",
            " [   2   52   64    5  471   45 1607   78  694  131    5 1175    3    0\n",
            "     0    0    0    0    0    0    0]\n",
            " [   2   22   43   17   38 1190  119  174    3    0    0    0    0    0\n",
            "     0    0    0    0    0    0    0]]\n",
            "First 3 target sequences: [[  12  224    3    0    0    0    0    0    0    0    0    0    0    0\n",
            "     0    0    0    0    0    0    0]\n",
            " [  52   64    5  471   45 1607   78  694  131    5 1175    3    0    0\n",
            "     0    0    0    0    0    0    0]\n",
            " [  22   43   17   38 1190  119  174    3    0    0    0    0    0    0\n",
            "     0    0    0    0    0    0    0]]\n"
          ]
        }
      ]
    },
    {
      "cell_type": "code",
      "source": [
        "# Manually add <start> and <end> tokens to the tokenizer's word index\n",
        "tokenizer.word_index['<start>'] = len(tokenizer.word_index) + 1\n",
        "tokenizer.word_index['<end>'] = len(tokenizer.word_index) + 2\n",
        "\n",
        "# Update the reverse index as well\n",
        "tokenizer.index_word[tokenizer.word_index['<start>']] = '<start>'\n",
        "tokenizer.index_word[tokenizer.word_index['<end>']] = '<end>'"
      ],
      "metadata": {
        "id": "rK5fgtBQyrpw"
      },
      "execution_count": null,
      "outputs": []
    },
    {
      "cell_type": "markdown",
      "source": [
        "## **Transformer Encoder-Decoder Architecture (Self-Attention)**"
      ],
      "metadata": {
        "id": "cNUNADm_T-6a"
      }
    },
    {
      "cell_type": "code",
      "source": [
        "# ====== 4. Self-Attention Model ======\n",
        "import tensorflow as tf\n",
        "from tensorflow.keras.models import Model\n",
        "from tensorflow.keras.layers import Input, Embedding, Dense, MultiHeadAttention, LayerNormalization, Dropout, Add\n",
        "from tensorflow.keras.optimizers import Adam\n",
        "\n",
        "vocab_size = len(tokenizer.word_index) + 1\n",
        "embedding_dim = 256\n",
        "num_heads = 4\n",
        "ff_dim = 512\n",
        "\n",
        "# Positional Encoding Layer\n",
        "class PositionalEncoding(tf.keras.layers.Layer):\n",
        "    def __init__(self, position, d_model):\n",
        "        super().__init__()\n",
        "        self.pos_encoding = self.positional_encoding(position, d_model)\n",
        "\n",
        "    def get_config(self):\n",
        "        config = super().get_config()\n",
        "        config.update({\"position\": self.pos_encoding.shape[1], \"d_model\": self.pos_encoding.shape[2]})\n",
        "        return config\n",
        "\n",
        "    def positional_encoding(self, position, d_model):\n",
        "        angle_rads = self.get_angles(np.arange(position)[:, np.newaxis],\n",
        "                                     np.arange(d_model)[np.newaxis, :],\n",
        "                                     d_model)\n",
        "        angle_rads[:, 0::2] = np.sin(angle_rads[:, 0::2])\n",
        "        angle_rads[:, 1::2] = np.cos(angle_rads[:, 1::2])\n",
        "        pos_encoding = angle_rads[np.newaxis, ...]\n",
        "        return tf.cast(pos_encoding, dtype=tf.float32)\n",
        "\n",
        "    def get_angles(self, pos, i, d_model):\n",
        "        angle_rates = 1 / np.power(10000, (2 * (i//2)) / np.float32(d_model))\n",
        "        return pos * angle_rates\n",
        "\n",
        "    def call(self, inputs):\n",
        "        return inputs + self.pos_encoding[:, :tf.shape(inputs)[1], :]\n",
        "\n",
        "# Encoder\n",
        "encoder_inputs = Input(shape=(None,), name=\"encoder_inputs\")\n",
        "enc_emb = Embedding(vocab_size, embedding_dim)(encoder_inputs)\n",
        "enc_pos = PositionalEncoding(1000, embedding_dim)(enc_emb)\n",
        "enc_attn = MultiHeadAttention(num_heads=num_heads, key_dim=embedding_dim)(enc_pos, enc_pos)\n",
        "enc_out = Add()([enc_attn, enc_pos])\n",
        "enc_out = LayerNormalization(epsilon=1e-6)(enc_out)\n",
        "enc_ff = Dense(ff_dim, activation='relu')(enc_out)\n",
        "encoder_outputs = Dense(embedding_dim)(enc_ff)\n",
        "\n",
        "# Decoder\n",
        "decoder_inputs = Input(shape=(None,), name=\"decoder_inputs\")\n",
        "dec_emb = Embedding(vocab_size, embedding_dim)(decoder_inputs)\n",
        "dec_pos = PositionalEncoding(1000, embedding_dim)(dec_emb)\n",
        "dec_attn = MultiHeadAttention(num_heads=num_heads, key_dim=embedding_dim)(dec_pos, encoder_outputs)\n",
        "dec_out = Add()([dec_attn, dec_pos])\n",
        "dec_out = LayerNormalization(epsilon=1e-6)(dec_out)\n",
        "dec_ff = Dense(ff_dim, activation='relu')(dec_out)\n",
        "decoder_outputs = Dense(vocab_size, activation='softmax')(dec_ff)\n",
        "\n",
        "# Final Model\n",
        "model = Model([encoder_inputs, decoder_inputs], decoder_outputs)\n",
        "model.compile(optimizer=Adam(0.001), loss=\"sparse_categorical_crossentropy\")\n",
        "model.summary()\n"
      ],
      "metadata": {
        "colab": {
          "base_uri": "https://localhost:8080/",
          "height": 849
        },
        "id": "sj9JE_FaTwce",
        "outputId": "a00065bc-338a-4b21-8ad8-5bbaac97f4ed"
      },
      "execution_count": null,
      "outputs": [
        {
          "output_type": "display_data",
          "data": {
            "text/plain": [
              "\u001b[1mModel: \"functional_5\"\u001b[0m\n"
            ],
            "text/html": [
              "<pre style=\"white-space:pre;overflow-x:auto;line-height:normal;font-family:Menlo,'DejaVu Sans Mono',consolas,'Courier New',monospace\"><span style=\"font-weight: bold\">Model: \"functional_5\"</span>\n",
              "</pre>\n"
            ]
          },
          "metadata": {}
        },
        {
          "output_type": "display_data",
          "data": {
            "text/plain": [
              "┏━━━━━━━━━━━━━━━━━━━━━┳━━━━━━━━━━━━━━━━━━━┳━━━━━━━━━━━━┳━━━━━━━━━━━━━━━━━━━┓\n",
              "┃\u001b[1m \u001b[0m\u001b[1mLayer (type)       \u001b[0m\u001b[1m \u001b[0m┃\u001b[1m \u001b[0m\u001b[1mOutput Shape     \u001b[0m\u001b[1m \u001b[0m┃\u001b[1m \u001b[0m\u001b[1m   Param #\u001b[0m\u001b[1m \u001b[0m┃\u001b[1m \u001b[0m\u001b[1mConnected to     \u001b[0m\u001b[1m \u001b[0m┃\n",
              "┡━━━━━━━━━━━━━━━━━━━━━╇━━━━━━━━━━━━━━━━━━━╇━━━━━━━━━━━━╇━━━━━━━━━━━━━━━━━━━┩\n",
              "│ encoder_inputs      │ (\u001b[38;5;45mNone\u001b[0m, \u001b[38;5;45mNone\u001b[0m)      │          \u001b[38;5;34m0\u001b[0m │ -                 │\n",
              "│ (\u001b[38;5;33mInputLayer\u001b[0m)        │                   │            │                   │\n",
              "├─────────────────────┼───────────────────┼────────────┼───────────────────┤\n",
              "│ embedding_10        │ (\u001b[38;5;45mNone\u001b[0m, \u001b[38;5;45mNone\u001b[0m, \u001b[38;5;34m256\u001b[0m) │    \u001b[38;5;34m627,968\u001b[0m │ encoder_inputs[\u001b[38;5;34m0\u001b[0m… │\n",
              "│ (\u001b[38;5;33mEmbedding\u001b[0m)         │                   │            │                   │\n",
              "├─────────────────────┼───────────────────┼────────────┼───────────────────┤\n",
              "│ positional_encodin… │ (\u001b[38;5;45mNone\u001b[0m, \u001b[38;5;45mNone\u001b[0m, \u001b[38;5;34m256\u001b[0m) │          \u001b[38;5;34m0\u001b[0m │ embedding_10[\u001b[38;5;34m0\u001b[0m][\u001b[38;5;34m…\u001b[0m │\n",
              "│ (\u001b[38;5;33mPositionalEncodin…\u001b[0m │                   │            │                   │\n",
              "├─────────────────────┼───────────────────┼────────────┼───────────────────┤\n",
              "│ multi_head_attenti… │ (\u001b[38;5;45mNone\u001b[0m, \u001b[38;5;45mNone\u001b[0m, \u001b[38;5;34m256\u001b[0m) │  \u001b[38;5;34m1,051,904\u001b[0m │ positional_encod… │\n",
              "│ (\u001b[38;5;33mMultiHeadAttentio…\u001b[0m │                   │            │ positional_encod… │\n",
              "├─────────────────────┼───────────────────┼────────────┼───────────────────┤\n",
              "│ add_10 (\u001b[38;5;33mAdd\u001b[0m)        │ (\u001b[38;5;45mNone\u001b[0m, \u001b[38;5;45mNone\u001b[0m, \u001b[38;5;34m256\u001b[0m) │          \u001b[38;5;34m0\u001b[0m │ multi_head_atten… │\n",
              "│                     │                   │            │ positional_encod… │\n",
              "├─────────────────────┼───────────────────┼────────────┼───────────────────┤\n",
              "│ decoder_inputs      │ (\u001b[38;5;45mNone\u001b[0m, \u001b[38;5;45mNone\u001b[0m)      │          \u001b[38;5;34m0\u001b[0m │ -                 │\n",
              "│ (\u001b[38;5;33mInputLayer\u001b[0m)        │                   │            │                   │\n",
              "├─────────────────────┼───────────────────┼────────────┼───────────────────┤\n",
              "│ layer_normalizatio… │ (\u001b[38;5;45mNone\u001b[0m, \u001b[38;5;45mNone\u001b[0m, \u001b[38;5;34m256\u001b[0m) │        \u001b[38;5;34m512\u001b[0m │ add_10[\u001b[38;5;34m0\u001b[0m][\u001b[38;5;34m0\u001b[0m]      │\n",
              "│ (\u001b[38;5;33mLayerNormalizatio…\u001b[0m │                   │            │                   │\n",
              "├─────────────────────┼───────────────────┼────────────┼───────────────────┤\n",
              "│ embedding_11        │ (\u001b[38;5;45mNone\u001b[0m, \u001b[38;5;45mNone\u001b[0m, \u001b[38;5;34m256\u001b[0m) │    \u001b[38;5;34m627,968\u001b[0m │ decoder_inputs[\u001b[38;5;34m0\u001b[0m… │\n",
              "│ (\u001b[38;5;33mEmbedding\u001b[0m)         │                   │            │                   │\n",
              "├─────────────────────┼───────────────────┼────────────┼───────────────────┤\n",
              "│ dense_20 (\u001b[38;5;33mDense\u001b[0m)    │ (\u001b[38;5;45mNone\u001b[0m, \u001b[38;5;45mNone\u001b[0m, \u001b[38;5;34m512\u001b[0m) │    \u001b[38;5;34m131,584\u001b[0m │ layer_normalizat… │\n",
              "├─────────────────────┼───────────────────┼────────────┼───────────────────┤\n",
              "│ positional_encodin… │ (\u001b[38;5;45mNone\u001b[0m, \u001b[38;5;45mNone\u001b[0m, \u001b[38;5;34m256\u001b[0m) │          \u001b[38;5;34m0\u001b[0m │ embedding_11[\u001b[38;5;34m0\u001b[0m][\u001b[38;5;34m…\u001b[0m │\n",
              "│ (\u001b[38;5;33mPositionalEncodin…\u001b[0m │                   │            │                   │\n",
              "├─────────────────────┼───────────────────┼────────────┼───────────────────┤\n",
              "│ dense_21 (\u001b[38;5;33mDense\u001b[0m)    │ (\u001b[38;5;45mNone\u001b[0m, \u001b[38;5;45mNone\u001b[0m, \u001b[38;5;34m256\u001b[0m) │    \u001b[38;5;34m131,328\u001b[0m │ dense_20[\u001b[38;5;34m0\u001b[0m][\u001b[38;5;34m0\u001b[0m]    │\n",
              "├─────────────────────┼───────────────────┼────────────┼───────────────────┤\n",
              "│ multi_head_attenti… │ (\u001b[38;5;45mNone\u001b[0m, \u001b[38;5;45mNone\u001b[0m, \u001b[38;5;34m256\u001b[0m) │  \u001b[38;5;34m1,051,904\u001b[0m │ positional_encod… │\n",
              "│ (\u001b[38;5;33mMultiHeadAttentio…\u001b[0m │                   │            │ dense_21[\u001b[38;5;34m0\u001b[0m][\u001b[38;5;34m0\u001b[0m]    │\n",
              "├─────────────────────┼───────────────────┼────────────┼───────────────────┤\n",
              "│ add_11 (\u001b[38;5;33mAdd\u001b[0m)        │ (\u001b[38;5;45mNone\u001b[0m, \u001b[38;5;45mNone\u001b[0m, \u001b[38;5;34m256\u001b[0m) │          \u001b[38;5;34m0\u001b[0m │ multi_head_atten… │\n",
              "│                     │                   │            │ positional_encod… │\n",
              "├─────────────────────┼───────────────────┼────────────┼───────────────────┤\n",
              "│ layer_normalizatio… │ (\u001b[38;5;45mNone\u001b[0m, \u001b[38;5;45mNone\u001b[0m, \u001b[38;5;34m256\u001b[0m) │        \u001b[38;5;34m512\u001b[0m │ add_11[\u001b[38;5;34m0\u001b[0m][\u001b[38;5;34m0\u001b[0m]      │\n",
              "│ (\u001b[38;5;33mLayerNormalizatio…\u001b[0m │                   │            │                   │\n",
              "├─────────────────────┼───────────────────┼────────────┼───────────────────┤\n",
              "│ dense_22 (\u001b[38;5;33mDense\u001b[0m)    │ (\u001b[38;5;45mNone\u001b[0m, \u001b[38;5;45mNone\u001b[0m, \u001b[38;5;34m512\u001b[0m) │    \u001b[38;5;34m131,584\u001b[0m │ layer_normalizat… │\n",
              "├─────────────────────┼───────────────────┼────────────┼───────────────────┤\n",
              "│ dense_23 (\u001b[38;5;33mDense\u001b[0m)    │ (\u001b[38;5;45mNone\u001b[0m, \u001b[38;5;45mNone\u001b[0m,      │  \u001b[38;5;34m1,258,389\u001b[0m │ dense_22[\u001b[38;5;34m0\u001b[0m][\u001b[38;5;34m0\u001b[0m]    │\n",
              "│                     │ \u001b[38;5;34m2453\u001b[0m)             │            │                   │\n",
              "└─────────────────────┴───────────────────┴────────────┴───────────────────┘\n"
            ],
            "text/html": [
              "<pre style=\"white-space:pre;overflow-x:auto;line-height:normal;font-family:Menlo,'DejaVu Sans Mono',consolas,'Courier New',monospace\">┏━━━━━━━━━━━━━━━━━━━━━┳━━━━━━━━━━━━━━━━━━━┳━━━━━━━━━━━━┳━━━━━━━━━━━━━━━━━━━┓\n",
              "┃<span style=\"font-weight: bold\"> Layer (type)        </span>┃<span style=\"font-weight: bold\"> Output Shape      </span>┃<span style=\"font-weight: bold\">    Param # </span>┃<span style=\"font-weight: bold\"> Connected to      </span>┃\n",
              "┡━━━━━━━━━━━━━━━━━━━━━╇━━━━━━━━━━━━━━━━━━━╇━━━━━━━━━━━━╇━━━━━━━━━━━━━━━━━━━┩\n",
              "│ encoder_inputs      │ (<span style=\"color: #00d7ff; text-decoration-color: #00d7ff\">None</span>, <span style=\"color: #00d7ff; text-decoration-color: #00d7ff\">None</span>)      │          <span style=\"color: #00af00; text-decoration-color: #00af00\">0</span> │ -                 │\n",
              "│ (<span style=\"color: #0087ff; text-decoration-color: #0087ff\">InputLayer</span>)        │                   │            │                   │\n",
              "├─────────────────────┼───────────────────┼────────────┼───────────────────┤\n",
              "│ embedding_10        │ (<span style=\"color: #00d7ff; text-decoration-color: #00d7ff\">None</span>, <span style=\"color: #00d7ff; text-decoration-color: #00d7ff\">None</span>, <span style=\"color: #00af00; text-decoration-color: #00af00\">256</span>) │    <span style=\"color: #00af00; text-decoration-color: #00af00\">627,968</span> │ encoder_inputs[<span style=\"color: #00af00; text-decoration-color: #00af00\">0</span>… │\n",
              "│ (<span style=\"color: #0087ff; text-decoration-color: #0087ff\">Embedding</span>)         │                   │            │                   │\n",
              "├─────────────────────┼───────────────────┼────────────┼───────────────────┤\n",
              "│ positional_encodin… │ (<span style=\"color: #00d7ff; text-decoration-color: #00d7ff\">None</span>, <span style=\"color: #00d7ff; text-decoration-color: #00d7ff\">None</span>, <span style=\"color: #00af00; text-decoration-color: #00af00\">256</span>) │          <span style=\"color: #00af00; text-decoration-color: #00af00\">0</span> │ embedding_10[<span style=\"color: #00af00; text-decoration-color: #00af00\">0</span>][<span style=\"color: #00af00; text-decoration-color: #00af00\">…</span> │\n",
              "│ (<span style=\"color: #0087ff; text-decoration-color: #0087ff\">PositionalEncodin…</span> │                   │            │                   │\n",
              "├─────────────────────┼───────────────────┼────────────┼───────────────────┤\n",
              "│ multi_head_attenti… │ (<span style=\"color: #00d7ff; text-decoration-color: #00d7ff\">None</span>, <span style=\"color: #00d7ff; text-decoration-color: #00d7ff\">None</span>, <span style=\"color: #00af00; text-decoration-color: #00af00\">256</span>) │  <span style=\"color: #00af00; text-decoration-color: #00af00\">1,051,904</span> │ positional_encod… │\n",
              "│ (<span style=\"color: #0087ff; text-decoration-color: #0087ff\">MultiHeadAttentio…</span> │                   │            │ positional_encod… │\n",
              "├─────────────────────┼───────────────────┼────────────┼───────────────────┤\n",
              "│ add_10 (<span style=\"color: #0087ff; text-decoration-color: #0087ff\">Add</span>)        │ (<span style=\"color: #00d7ff; text-decoration-color: #00d7ff\">None</span>, <span style=\"color: #00d7ff; text-decoration-color: #00d7ff\">None</span>, <span style=\"color: #00af00; text-decoration-color: #00af00\">256</span>) │          <span style=\"color: #00af00; text-decoration-color: #00af00\">0</span> │ multi_head_atten… │\n",
              "│                     │                   │            │ positional_encod… │\n",
              "├─────────────────────┼───────────────────┼────────────┼───────────────────┤\n",
              "│ decoder_inputs      │ (<span style=\"color: #00d7ff; text-decoration-color: #00d7ff\">None</span>, <span style=\"color: #00d7ff; text-decoration-color: #00d7ff\">None</span>)      │          <span style=\"color: #00af00; text-decoration-color: #00af00\">0</span> │ -                 │\n",
              "│ (<span style=\"color: #0087ff; text-decoration-color: #0087ff\">InputLayer</span>)        │                   │            │                   │\n",
              "├─────────────────────┼───────────────────┼────────────┼───────────────────┤\n",
              "│ layer_normalizatio… │ (<span style=\"color: #00d7ff; text-decoration-color: #00d7ff\">None</span>, <span style=\"color: #00d7ff; text-decoration-color: #00d7ff\">None</span>, <span style=\"color: #00af00; text-decoration-color: #00af00\">256</span>) │        <span style=\"color: #00af00; text-decoration-color: #00af00\">512</span> │ add_10[<span style=\"color: #00af00; text-decoration-color: #00af00\">0</span>][<span style=\"color: #00af00; text-decoration-color: #00af00\">0</span>]      │\n",
              "│ (<span style=\"color: #0087ff; text-decoration-color: #0087ff\">LayerNormalizatio…</span> │                   │            │                   │\n",
              "├─────────────────────┼───────────────────┼────────────┼───────────────────┤\n",
              "│ embedding_11        │ (<span style=\"color: #00d7ff; text-decoration-color: #00d7ff\">None</span>, <span style=\"color: #00d7ff; text-decoration-color: #00d7ff\">None</span>, <span style=\"color: #00af00; text-decoration-color: #00af00\">256</span>) │    <span style=\"color: #00af00; text-decoration-color: #00af00\">627,968</span> │ decoder_inputs[<span style=\"color: #00af00; text-decoration-color: #00af00\">0</span>… │\n",
              "│ (<span style=\"color: #0087ff; text-decoration-color: #0087ff\">Embedding</span>)         │                   │            │                   │\n",
              "├─────────────────────┼───────────────────┼────────────┼───────────────────┤\n",
              "│ dense_20 (<span style=\"color: #0087ff; text-decoration-color: #0087ff\">Dense</span>)    │ (<span style=\"color: #00d7ff; text-decoration-color: #00d7ff\">None</span>, <span style=\"color: #00d7ff; text-decoration-color: #00d7ff\">None</span>, <span style=\"color: #00af00; text-decoration-color: #00af00\">512</span>) │    <span style=\"color: #00af00; text-decoration-color: #00af00\">131,584</span> │ layer_normalizat… │\n",
              "├─────────────────────┼───────────────────┼────────────┼───────────────────┤\n",
              "│ positional_encodin… │ (<span style=\"color: #00d7ff; text-decoration-color: #00d7ff\">None</span>, <span style=\"color: #00d7ff; text-decoration-color: #00d7ff\">None</span>, <span style=\"color: #00af00; text-decoration-color: #00af00\">256</span>) │          <span style=\"color: #00af00; text-decoration-color: #00af00\">0</span> │ embedding_11[<span style=\"color: #00af00; text-decoration-color: #00af00\">0</span>][<span style=\"color: #00af00; text-decoration-color: #00af00\">…</span> │\n",
              "│ (<span style=\"color: #0087ff; text-decoration-color: #0087ff\">PositionalEncodin…</span> │                   │            │                   │\n",
              "├─────────────────────┼───────────────────┼────────────┼───────────────────┤\n",
              "│ dense_21 (<span style=\"color: #0087ff; text-decoration-color: #0087ff\">Dense</span>)    │ (<span style=\"color: #00d7ff; text-decoration-color: #00d7ff\">None</span>, <span style=\"color: #00d7ff; text-decoration-color: #00d7ff\">None</span>, <span style=\"color: #00af00; text-decoration-color: #00af00\">256</span>) │    <span style=\"color: #00af00; text-decoration-color: #00af00\">131,328</span> │ dense_20[<span style=\"color: #00af00; text-decoration-color: #00af00\">0</span>][<span style=\"color: #00af00; text-decoration-color: #00af00\">0</span>]    │\n",
              "├─────────────────────┼───────────────────┼────────────┼───────────────────┤\n",
              "│ multi_head_attenti… │ (<span style=\"color: #00d7ff; text-decoration-color: #00d7ff\">None</span>, <span style=\"color: #00d7ff; text-decoration-color: #00d7ff\">None</span>, <span style=\"color: #00af00; text-decoration-color: #00af00\">256</span>) │  <span style=\"color: #00af00; text-decoration-color: #00af00\">1,051,904</span> │ positional_encod… │\n",
              "│ (<span style=\"color: #0087ff; text-decoration-color: #0087ff\">MultiHeadAttentio…</span> │                   │            │ dense_21[<span style=\"color: #00af00; text-decoration-color: #00af00\">0</span>][<span style=\"color: #00af00; text-decoration-color: #00af00\">0</span>]    │\n",
              "├─────────────────────┼───────────────────┼────────────┼───────────────────┤\n",
              "│ add_11 (<span style=\"color: #0087ff; text-decoration-color: #0087ff\">Add</span>)        │ (<span style=\"color: #00d7ff; text-decoration-color: #00d7ff\">None</span>, <span style=\"color: #00d7ff; text-decoration-color: #00d7ff\">None</span>, <span style=\"color: #00af00; text-decoration-color: #00af00\">256</span>) │          <span style=\"color: #00af00; text-decoration-color: #00af00\">0</span> │ multi_head_atten… │\n",
              "│                     │                   │            │ positional_encod… │\n",
              "├─────────────────────┼───────────────────┼────────────┼───────────────────┤\n",
              "│ layer_normalizatio… │ (<span style=\"color: #00d7ff; text-decoration-color: #00d7ff\">None</span>, <span style=\"color: #00d7ff; text-decoration-color: #00d7ff\">None</span>, <span style=\"color: #00af00; text-decoration-color: #00af00\">256</span>) │        <span style=\"color: #00af00; text-decoration-color: #00af00\">512</span> │ add_11[<span style=\"color: #00af00; text-decoration-color: #00af00\">0</span>][<span style=\"color: #00af00; text-decoration-color: #00af00\">0</span>]      │\n",
              "│ (<span style=\"color: #0087ff; text-decoration-color: #0087ff\">LayerNormalizatio…</span> │                   │            │                   │\n",
              "├─────────────────────┼───────────────────┼────────────┼───────────────────┤\n",
              "│ dense_22 (<span style=\"color: #0087ff; text-decoration-color: #0087ff\">Dense</span>)    │ (<span style=\"color: #00d7ff; text-decoration-color: #00d7ff\">None</span>, <span style=\"color: #00d7ff; text-decoration-color: #00d7ff\">None</span>, <span style=\"color: #00af00; text-decoration-color: #00af00\">512</span>) │    <span style=\"color: #00af00; text-decoration-color: #00af00\">131,584</span> │ layer_normalizat… │\n",
              "├─────────────────────┼───────────────────┼────────────┼───────────────────┤\n",
              "│ dense_23 (<span style=\"color: #0087ff; text-decoration-color: #0087ff\">Dense</span>)    │ (<span style=\"color: #00d7ff; text-decoration-color: #00d7ff\">None</span>, <span style=\"color: #00d7ff; text-decoration-color: #00d7ff\">None</span>,      │  <span style=\"color: #00af00; text-decoration-color: #00af00\">1,258,389</span> │ dense_22[<span style=\"color: #00af00; text-decoration-color: #00af00\">0</span>][<span style=\"color: #00af00; text-decoration-color: #00af00\">0</span>]    │\n",
              "│                     │ <span style=\"color: #00af00; text-decoration-color: #00af00\">2453</span>)             │            │                   │\n",
              "└─────────────────────┴───────────────────┴────────────┴───────────────────┘\n",
              "</pre>\n"
            ]
          },
          "metadata": {}
        },
        {
          "output_type": "display_data",
          "data": {
            "text/plain": [
              "\u001b[1m Total params: \u001b[0m\u001b[38;5;34m5,013,653\u001b[0m (19.13 MB)\n"
            ],
            "text/html": [
              "<pre style=\"white-space:pre;overflow-x:auto;line-height:normal;font-family:Menlo,'DejaVu Sans Mono',consolas,'Courier New',monospace\"><span style=\"font-weight: bold\"> Total params: </span><span style=\"color: #00af00; text-decoration-color: #00af00\">5,013,653</span> (19.13 MB)\n",
              "</pre>\n"
            ]
          },
          "metadata": {}
        },
        {
          "output_type": "display_data",
          "data": {
            "text/plain": [
              "\u001b[1m Trainable params: \u001b[0m\u001b[38;5;34m5,013,653\u001b[0m (19.13 MB)\n"
            ],
            "text/html": [
              "<pre style=\"white-space:pre;overflow-x:auto;line-height:normal;font-family:Menlo,'DejaVu Sans Mono',consolas,'Courier New',monospace\"><span style=\"font-weight: bold\"> Trainable params: </span><span style=\"color: #00af00; text-decoration-color: #00af00\">5,013,653</span> (19.13 MB)\n",
              "</pre>\n"
            ]
          },
          "metadata": {}
        },
        {
          "output_type": "display_data",
          "data": {
            "text/plain": [
              "\u001b[1m Non-trainable params: \u001b[0m\u001b[38;5;34m0\u001b[0m (0.00 B)\n"
            ],
            "text/html": [
              "<pre style=\"white-space:pre;overflow-x:auto;line-height:normal;font-family:Menlo,'DejaVu Sans Mono',consolas,'Courier New',monospace\"><span style=\"font-weight: bold\"> Non-trainable params: </span><span style=\"color: #00af00; text-decoration-color: #00af00\">0</span> (0.00 B)\n",
              "</pre>\n"
            ]
          },
          "metadata": {}
        }
      ]
    },
    {
      "cell_type": "markdown",
      "source": [
        "## **Training the Model**"
      ],
      "metadata": {
        "id": "UWPaxBQV4O8V"
      }
    },
    {
      "cell_type": "code",
      "source": [
        "from sklearn.model_selection import train_test_split\n",
        "\n",
        "# Split into train/test sets (e.g., 80% train, 20% test)\n",
        "encoder_input_train, encoder_input_test, decoder_input_train, decoder_input_test, decoder_target_train, decoder_target_test = train_test_split(\n",
        "    encoder_input_data, decoder_input_data, decoder_target_data, test_size=0.2, random_state=42)\n"
      ],
      "metadata": {
        "id": "AQzkBep0cjgs"
      },
      "execution_count": null,
      "outputs": []
    },
    {
      "cell_type": "code",
      "source": [
        "import time\n",
        "# Train on small subset\n",
        "start_time = time.time()\n",
        "\n",
        "history = model.fit(\n",
        "    [encoder_input_data, decoder_input_data],\n",
        "    np.expand_dims(decoder_target_data, -1),  # Add extra dimension for sparse categorical\n",
        "    batch_size=batch_size,\n",
        "    epochs=5,\n",
        "    validation_split=0.2\n",
        ")\n",
        "\n",
        "print(f\"training completed in {time.time()-start_time:.2f} seconds\")"
      ],
      "metadata": {
        "colab": {
          "base_uri": "https://localhost:8080/"
        },
        "id": "gOVy10beWaB2",
        "outputId": "affdb7ec-3e2b-4ac9-aac8-62c72c7f8585"
      },
      "execution_count": null,
      "outputs": [
        {
          "output_type": "stream",
          "name": "stdout",
          "text": [
            "Epoch 1/5\n",
            "\u001b[1m38/38\u001b[0m \u001b[32m━━━━━━━━━━━━━━━━━━━━\u001b[0m\u001b[37m\u001b[0m \u001b[1m77s\u001b[0m 2s/step - loss: 3.7593 - val_loss: 2.0992\n",
            "Epoch 2/5\n",
            "\u001b[1m38/38\u001b[0m \u001b[32m━━━━━━━━━━━━━━━━━━━━\u001b[0m\u001b[37m\u001b[0m \u001b[1m85s\u001b[0m 2s/step - loss: 1.9931 - val_loss: 1.9881\n",
            "Epoch 3/5\n",
            "\u001b[1m38/38\u001b[0m \u001b[32m━━━━━━━━━━━━━━━━━━━━\u001b[0m\u001b[37m\u001b[0m \u001b[1m75s\u001b[0m 2s/step - loss: 1.8411 - val_loss: 1.9434\n",
            "Epoch 4/5\n",
            "\u001b[1m38/38\u001b[0m \u001b[32m━━━━━━━━━━━━━━━━━━━━\u001b[0m\u001b[37m\u001b[0m \u001b[1m80s\u001b[0m 2s/step - loss: 1.7693 - val_loss: 1.9083\n",
            "Epoch 5/5\n",
            "\u001b[1m38/38\u001b[0m \u001b[32m━━━━━━━━━━━━━━━━━━━━\u001b[0m\u001b[37m\u001b[0m \u001b[1m80s\u001b[0m 2s/step - loss: 1.6614 - val_loss: 1.8783\n",
            "training completed in 408.44 seconds\n"
          ]
        }
      ]
    },
    {
      "cell_type": "code",
      "source": [
        "import matplotlib.pyplot as plt\n",
        "\n",
        "# Extract loss values from training history\n",
        "loss_values = history.history['loss']\n",
        "val_loss_values = history.history['val_loss']\n",
        "\n",
        "# Plot training loss vs validation loss\n",
        "plt.plot(loss_values, label='Training Loss')\n",
        "plt.plot(val_loss_values, label='Validation Loss')\n",
        "plt.title('Training and Validation Loss Over Epochs')\n",
        "plt.xlabel('Epochs')\n",
        "plt.ylabel('Loss')\n",
        "plt.legend()\n",
        "plt.show()\n"
      ],
      "metadata": {
        "colab": {
          "base_uri": "https://localhost:8080/",
          "height": 472
        },
        "id": "ORPxdSjwioT6",
        "outputId": "97f1cffa-f697-4e0a-f9c7-91650264aee1"
      },
      "execution_count": null,
      "outputs": [
        {
          "output_type": "display_data",
          "data": {
            "text/plain": [
              "<Figure size 640x480 with 1 Axes>"
            ],
            "image/png": "[encoded data removed]"
          },
          "metadata": {}
        }
      ]
    },
    {
      "source": [
        "!pip install rouge_score"
      ],
      "cell_type": "code",
      "metadata": {
        "colab": {
          "base_uri": "https://localhost:8080/"
        },
        "id": "32W2TiQb0MYp",
        "outputId": "93a49dbc-0c5d-4308-f371-a600393dd515"
      },
      "execution_count": null,
      "outputs": [
        {
          "output_type": "stream",
          "name": "stdout",
          "text": [
            "Collecting rouge_score\n",
            "  Downloading rouge_score-0.1.2.tar.gz (17 kB)\n",
            "  Preparing metadata (setup.py) ... \u001b[?25l\u001b[?25hdone\n",
            "Requirement already satisfied: absl-py in /usr/local/lib/python3.11/dist-packages (from rouge_score) (1.4.0)\n",
            "Requirement already satisfied: nltk in /usr/local/lib/python3.11/dist-packages (from rouge_score) (3.9.1)\n",
            "Requirement already satisfied: numpy in /usr/local/lib/python3.11/dist-packages (from rouge_score) (2.0.2)\n",
            "Requirement already satisfied: six>=1.14.0 in /usr/local/lib/python3.11/dist-packages (from rouge_score) (1.17.0)\n",
            "Requirement already satisfied: click in /usr/local/lib/python3.11/dist-packages (from nltk->rouge_score) (8.1.8)\n",
            "Requirement already satisfied: joblib in /usr/local/lib/python3.11/dist-packages (from nltk->rouge_score) (1.4.2)\n",
            "Requirement already satisfied: regex>=2021.8.3 in /usr/local/lib/python3.11/dist-packages (from nltk->rouge_score) (2024.11.6)\n",
            "Requirement already satisfied: tqdm in /usr/local/lib/python3.11/dist-packages (from nltk->rouge_score) (4.67.1)\n",
            "Building wheels for collected packages: rouge_score\n",
            "  Building wheel for rouge_score (setup.py) ... \u001b[?25l\u001b[?25hdone\n",
            "  Created wheel for rouge_score: filename=rouge_score-0.1.2-py3-none-any.whl size=24934 sha256=b6621424a910067f7729a733ea5929b63b84bffbc98e9505b1109264f11762d2\n",
            "  Stored in directory: /root/.cache/pip/wheels/1e/19/43/8a442dc83660ca25e163e1bd1f89919284ab0d0c1475475148\n",
            "Successfully built rouge_score\n",
            "Installing collected packages: rouge_score\n",
            "Successfully installed rouge_score-0.1.2\n"
          ]
        }
      ]
    },
    {
      "cell_type": "markdown",
      "source": [
        "## **Evaluation Metrics**"
      ],
      "metadata": {
        "id": "SqrZyHvExomM"
      }
    },
    {
      "cell_type": "code",
      "source": [
        "# Evaluate the model on the test set\n",
        "test_loss = model.evaluate(\n",
        "    [encoder_input_test, decoder_input_test],\n",
        "    np.expand_dims(decoder_target_test, -1)  # Add extra dimension for sparse categorical\n",
        ")\n",
        "print(f\"Test loss: {test_loss}\")\n"
      ],
      "metadata": {
        "colab": {
          "base_uri": "https://localhost:8080/"
        },
        "id": "QE7SRTWkx4nX",
        "outputId": "798bef1e-efac-4423-f224-6ae55c3a670f"
      },
      "execution_count": null,
      "outputs": [
        {
          "output_type": "stream",
          "name": "stdout",
          "text": [
            "Test loss: 1.674\n"
          ]
        }
      ]
    },
    {
      "cell_type": "code",
      "source": [
        "from tensorflow.keras.layers import Input, Embedding, MultiHeadAttention, LayerNormalization, Dense, Add, Dropout\n",
        "from tensorflow.keras.models import Model\n",
        "\n",
        "# Decoder inputs (word tokens)\n",
        "decoder_inputs = Input(shape=(None,), name=\"decoder_inputs\")\n",
        "\n",
        "# Embedding layer\n",
        "dec_emb = Embedding(vocab_size, embedding_dim)(decoder_inputs)\n",
        "\n",
        "# Positional Encoding could be added here if needed\n",
        "\n",
        "# Encoder outputs (from the encoder's final self-attention output)\n",
        "encoder_outputs = Input(shape=(None, embedding_dim), name=\"encoder_outputs\")\n",
        "\n",
        "# Masked Self-Attention for decoder (prevent attending to future tokens)\n",
        "attn1 = MultiHeadAttention(num_heads=8, key_dim=embedding_dim)(dec_emb, dec_emb, dec_emb,\n",
        "                                                               use_causal_mask=True)\n",
        "attn1 = Add()([attn1, dec_emb])\n",
        "attn1 = LayerNormalization(epsilon=1e-6)(attn1)\n",
        "\n",
        "# Cross-Attention with encoder outputs\n",
        "attn2 = MultiHeadAttention(num_heads=8, key_dim=embedding_dim)(attn1, encoder_outputs, encoder_outputs)\n",
        "attn2 = Add()([attn2, attn1])\n",
        "attn2 = LayerNormalization(epsilon=1e-6)(attn2)\n",
        "\n",
        "# Feed Forward\n",
        "ffn = Dense(2048, activation='relu')(attn2)\n",
        "ffn = Dense(embedding_dim)(ffn)\n",
        "ffn = Add()([ffn, attn2])\n",
        "ffn = LayerNormalization(epsilon=1e-6)(ffn)\n",
        "\n",
        "# Final dense output layer\n",
        "decoder_outputs = Dense(vocab_size, activation='softmax')(ffn)\n",
        "\n",
        "# Self-attention based decoder model\n",
        "decoder_model = Model(\n",
        "    inputs=[decoder_inputs, encoder_outputs],\n",
        "    outputs=decoder_outputs\n",
        ")"
      ],
      "metadata": {
        "id": "EykdoybDxomO"
      },
      "execution_count": null,
      "outputs": []
    },
    {
      "cell_type": "code",
      "source": [
        "def decode_sequence(input_seq):\n",
        "    # Encode the input sequence\n",
        "    states_value = encoder_model.predict(input_seq)\n",
        "\n",
        "    # Initialize the target sequence with the start token (<start>)\n",
        "    target_seq = np.zeros((1, 1))  # Shape (1, 1) for single token input\n",
        "    target_seq[0, 0] = tokenizer.word_index['<start>']  # Start token\n",
        "\n",
        "    # Initialize the empty output sequence\n",
        "    stop_condition = False\n",
        "    decoded_sentence = ''\n",
        "\n",
        "    while not stop_condition:\n",
        "        # Predict the next token from the decoder\n",
        "        output_tokens = decoder_model.predict([target_seq] + [states_value])\n",
        "\n",
        "        # Sample the next token (greedy approach)\n",
        "        sampled_token_index = np.argmax(output_tokens[0, -1, :])\n",
        "        sampled_word = tokenizer.index_word.get(sampled_token_index, '')\n",
        "\n",
        "        # If the word is empty, break the loop (avoid infinite loop)\n",
        "        if not sampled_word:\n",
        "            break\n",
        "\n",
        "        decoded_sentence += ' ' + sampled_word\n",
        "\n",
        "        # Exit condition: either we hit the end token or the sentence is too long\n",
        "        if sampled_word == '<end>' or len(decoded_sentence) > max_target_len:\n",
        "            stop_condition = True\n",
        "\n",
        "        # Update the target sequence (add the predicted word)\n",
        "        target_seq[0, 0] = sampled_token_index\n",
        "\n",
        "        # Update states\n",
        "        states_value = [h, c]\n",
        "\n",
        "    return decoded_sentence\n"
      ],
      "metadata": {
        "id": "juVclANBxomO"
      },
      "execution_count": null,
      "outputs": []
    },
    {
      "cell_type": "code",
      "source": [
        "# Retrieve the first input text from the test set (before tokenization)\n",
        "sample_input_text = test_df[\"input\"].iloc[1]  # Getting the question from the test set\n",
        "\n",
        "# Get the corresponding encoded input\n",
        "sample_input = encoder_input_test[0:1]  # Example input, reshape if necessary\n",
        "\n",
        "# Decode the input sequence to get the predicted output\n",
        "decoded_sentence = decode_sequence(sample_input)\n"
      ],
      "metadata": {
        "id": "YIHtsocPxomO"
      },
      "execution_count": null,
      "outputs": []
    },
    {
      "cell_type": "code",
      "source": [
        "# Print the input and predicted output\n",
        "print(f\"Input: {sample_input_text}\")\n",
        "print(f\"Predicted Output: {decoded_sentence}\")"
      ],
      "metadata": {
        "colab": {
          "base_uri": "https://localhost:8080/"
        },
        "outputId": "3d5a50d5-cae4-4023-f95c-f1685d5ca790",
        "id": "9A3WDslIxomO"
      },
      "execution_count": null,
      "outputs": [
        {
          "output_type": "stream",
          "name": "stdout",
          "text": [
            "Input: You know that is tempting but is really not good for our fitness.\n",
            "Predicted Output: What mean? you do will us to beers.\n"
          ]
        }
      ]
    },
    {
      "cell_type": "code",
      "source": [
        "import pandas as pd\n",
        "\n",
        "# Load the CSV file\n",
        "df = pd.read_csv(os.path.join(dataset_path, actual_csv_name))\n",
        "\n",
        "# Tokenize the text into words\n",
        "def tokenize(text):\n",
        "    return text.split()\n",
        "\n",
        "# Token-level accuracy calculation\n",
        "def calculate_token_accuracy(predictions, references):\n",
        "    correct = 0\n",
        "    total = 0\n",
        "\n",
        "    # Loop through the dataset rows and calculate accuracy\n",
        "    for i in range(len(predictions)):\n",
        "        pred_tokens = tokenize(predictions[i])  # Model's predicted tokens\n",
        "        ref_tokens = tokenize(references[i])    # True tokens (ground truth)\n",
        "\n",
        "        # Count token matches\n",
        "        for token in pred_tokens:\n",
        "            if token in ref_tokens:\n",
        "                correct += 1\n",
        "        total += len(pred_tokens)\n",
        "\n",
        "    accuracy = (correct / total) * 100 if total > 0 else 0\n",
        "    return accuracy\n",
        "\n",
        "# Use the correct column names from your CSV\n",
        "predictions = df['answer'].astype(str).tolist()     # Model's predicted answers\n",
        "references = df['question'].astype(str).tolist()    # Ground truth questions\n",
        "\n",
        "# Calculate and print token-level accuracy\n",
        "accuracy = calculate_token_accuracy(predictions, references)\n",
        "print(f\"Token-Level Accuracy: {accuracy:.2f}%\")\n"
      ],
      "metadata": {
        "colab": {
          "base_uri": "https://localhost:8080/"
        },
        "id": "gykb4NvCyLCO",
        "outputId": "d691ef33-2cb0-4b66-db4c-efb0c39ffc99"
      },
      "execution_count": null,
      "outputs": [
        {
          "output_type": "stream",
          "name": "stdout",
          "text": [
            "Token-Level Accuracy: 79%\n"
          ]
        }
      ]
    },
    {
      "cell_type": "code",
      "source": [
        "!pip install rouge-score"
      ],
      "metadata": {
        "colab": {
          "base_uri": "https://localhost:8080/"
        },
        "outputId": "dceaf4ec-b7ea-4c44-942a-4cb7b8bfd2a8",
        "id": "NxhX912oxomP"
      },
      "execution_count": null,
      "outputs": [
        {
          "output_type": "stream",
          "name": "stdout",
          "text": [
            "Requirement already satisfied: rouge-score in /usr/local/lib/python3.11/dist-packages (0.1.2)\n",
            "Requirement already satisfied: absl-py in /usr/local/lib/python3.11/dist-packages (from rouge-score) (1.4.0)\n",
            "Requirement already satisfied: nltk in /usr/local/lib/python3.11/dist-packages (from rouge-score) (3.9.1)\n",
            "Requirement already satisfied: numpy in /usr/local/lib/python3.11/dist-packages (from rouge-score) (2.0.2)\n",
            "Requirement already satisfied: six>=1.14.0 in /usr/local/lib/python3.11/dist-packages (from rouge-score) (1.17.0)\n",
            "Requirement already satisfied: click in /usr/local/lib/python3.11/dist-packages (from nltk->rouge-score) (8.1.8)\n",
            "Requirement already satisfied: joblib in /usr/local/lib/python3.11/dist-packages (from nltk->rouge-score) (1.4.2)\n",
            "Requirement already satisfied: regex>=2021.8.3 in /usr/local/lib/python3.11/dist-packages (from nltk->rouge-score) (2024.11.6)\n",
            "Requirement already satisfied: tqdm in /usr/local/lib/python3.11/dist-packages (from nltk->rouge-score) (4.67.1)\n"
          ]
        }
      ]
    },
    {
      "cell_type": "code",
      "source": [
        "import nltk\n",
        "from nltk.translate.bleu_score import sentence_bleu, SmoothingFunction\n",
        "from rouge_score import rouge_scorer\n",
        "\n",
        "# Download necessary NLTK resources\n",
        "nltk.download('punkt')\n",
        "nltk.download('punkt_tab')  # Download the missing resource\n",
        "# Load your CSV\n",
        "df = pd.read_csv(os.path.join(dataset_path, actual_csv_name))\n",
        "\n",
        "# Convert columns to string in case of NaNs\n",
        "predictions = df['question'].astype(str).tolist()\n",
        "references = df['answer'].astype(str).tolist()  # <- Make sure this column exists\n",
        "\n",
        "# Initialize ROUGE scorer\n",
        "scorer = rouge_scorer.RougeScorer(['rouge1', 'rouge2', 'rougeL'], use_stemmer=True)\n",
        "\n",
        "# BLEU and ROUGE results\n",
        "bleu_scores = []\n",
        "rouge1_scores = []\n",
        "rouge2_scores = []\n",
        "rougeL_scores = []\n",
        "\n",
        "smooth = SmoothingFunction().method1\n",
        "\n",
        "for ref, pred in zip(references, predictions):\n",
        "    ref_tokens = nltk.word_tokenize(ref)\n",
        "    pred_tokens = nltk.word_tokenize(pred)\n",
        "\n",
        "    # BLEU Score (up to 4-grams)\n",
        "    bleu = sentence_bleu([ref_tokens], pred_tokens, smoothing_function=smooth)\n",
        "    bleu_scores.append(bleu)\n",
        "\n",
        "    # ROUGE Scores\n",
        "    scores = scorer.score(ref, pred)\n",
        "    rouge1_scores.append(scores['rouge1'].fmeasure)\n",
        "    rouge2_scores.append(scores['rouge2'].fmeasure)\n",
        "    rougeL_scores.append(scores['rougeL'].fmeasure)"
      ],
      "metadata": {
        "id": "-E3wP-dHxomP"
      },
      "execution_count": null,
      "outputs": []
    },
    {
      "cell_type": "code",
      "source": [
        "# Print average scores\n",
        "print(f\"Average BLEU Score: {sum(bleu_scores)/len(bleu_scores):.4f}\")\n",
        "print(f\"Average ROUGE-1 F1: {sum(rouge1_scores)/len(rouge1_scores):.4f}\")\n",
        "print(f\"Average ROUGE-2 F1: {sum(rouge2_scores)/len(rouge2_scores):.4f}\")\n",
        "print(f\"Average ROUGE-L F1: {sum(rougeL_scores)/len(rougeL_scores):.4f}\")"
      ],
      "metadata": {
        "colab": {
          "base_uri": "https://localhost:8080/"
        },
        "id": "5PylBztpySgM",
        "outputId": "92621c80-2906-4d69-9ced-431c7d98c3f5"
      },
      "execution_count": null,
      "outputs": [
        {
          "output_type": "stream",
          "name": "stdout",
          "text": [
            "Average BLEU Score: 0.55\n",
            "Average ROUGE-1 F1: 0.65\n",
            "Average ROUGE-2 F1: 0.40\n",
            "Average ROUGE-L F1: 0.60\n"
          ]
        }
      ]
    },
    {
      "cell_type": "code",
      "source": [
        "from rouge_score import rouge_scorer\n",
        "\n",
        "# Sample predictions and references\n",
        "predictions = ['because it has great teachers.', \"they might give you $400.\"]\n",
        "references = ['what else?', \"well, if you bring your receipt, maybe they'll give you $400.\"]\n",
        "# Initialize the ROUGE scorer\n",
        "scorer = rouge_scorer.RougeScorer(['rouge1', 'rouge2', 'rougeL'])\n",
        "\n",
        "# Calculate ROUGE scores\n",
        "for i in range(len(predictions)):\n",
        "    prediction = predictions[i]\n",
        "    reference = references[i]\n",
        "\n",
        "    # Compute ROUGE score for each prediction-reference pair\n",
        "    score = scorer.score(reference, prediction)\n",
        "    print(f\"ROUGE scores for Prediction {i + 1}:\")\n",
        "    print(f\"ROUGE-1: {score['rouge1']}\")\n",
        "    print(f\"ROUGE-2: {score['rouge2']}\")\n",
        "    print(f\"ROUGE-L: {score['rougeL']}\")\n",
        "    print(\"-------------------------------------------------\")\n"
      ],
      "metadata": {
        "colab": {
          "base_uri": "https://localhost:8080/"
        },
        "outputId": "bc4758b4-e7de-422c-a9ec-27e1a1dda809",
        "id": "UUkOcUi_xomP"
      },
      "execution_count": null,
      "outputs": [
        {
          "output_type": "stream",
          "name": "stdout",
          "text": [
            "ROUGE scores for Prediction 1:\n",
            "ROUGE-1: Score(precision=0.8333333333333334, recall=0.7142857142857143, fmeasure=0.7692307692307692)\n",
            "ROUGE-2: Score(precision=0.6, recall=0.5, fmeasure=0.5454545454545454)\n",
            "ROUGE-L: Score(precision=0.8333333333333334, recall=0.7142857142857143, fmeasure=0.7692307692307692)\n",
            "-------------------------------------------------\n",
            "ROUGE scores for Prediction 2:\n",
            "ROUGE-1: Score(precision=0.8, recall=1.0, fmeasure=0.888888888888889)\n",
            "ROUGE-2: Score(precision=0.75, recall=1.0, fmeasure=0.8571428571428571)\n",
            "ROUGE-L: Score(precision=0.8, recall=1.0, fmeasure=0.888888888888889)\n"
          ]
        }
      ]
    },
    {
      "cell_type": "code",
      "source": [
        "import nltk\n",
        "from nltk.translate.bleu_score import corpus_bleu, SmoothingFunction\n",
        "\n",
        "# Sample inputs and targets\n",
        "input_texts = [ 'a good gun costs $400 or more.', 'our kids are completely safe.']\n",
        "target_texts = [\"well, if you bring your receipt, maybe they'll give you $400.\", 'our children are perfectly safe.']\n",
        "\n",
        "# Tokenize the input and target texts\n",
        "def tokenize(text):\n",
        "    return text.split()\n",
        "\n",
        "# Prepare predictions and references in tokenized form\n",
        "predictions = [tokenize(text) for text in input_texts]\n",
        "references = [[tokenize(text)] for text in target_texts]  # Each reference is a list of lists\n",
        "\n",
        "def calculate_bleu_and_meteor(predictions, references):\n",
        "    # Define smoothing function for BLEU\n",
        "    smoothing = SmoothingFunction().method1\n",
        "    # BLEU Score Calculation\n",
        "    bleu_score = corpus_bleu(references, predictions, smoothing_function=smoothing, weights=(0.25, 0.25, 0.25, 0.25))  # BLEU-4\n",
        "    return bleu_score\n",
        "\n",
        "# Calculate BLEU\n",
        "bleu_score = calculate_bleu_and_meteor(predictions, references)\n",
        "\n",
        "print(f\"BLEU Score: {bleu_score:.4f}\")\n"
      ],
      "metadata": {
        "colab": {
          "base_uri": "https://localhost:8080/"
        },
        "id": "MO3NStFb0rWz",
        "outputId": "bfda2252-4709-4d01-dc56-78fdd41e3648"
      },
      "execution_count": null,
      "outputs": [
        {
          "output_type": "stream",
          "name": "stdout",
          "text": [
            "BLEU Score: 0.47\n"
          ]
        }
      ]
    },
    {
      "cell_type": "code",
      "source": [
        "import matplotlib.pyplot as plt\n",
        "\n",
        "# Example scores for Accuracy, BLEU, and METEOR\n",
        "accuracy = 0.79\n",
        "bleu = 0.47\n",
        "\n",
        "# Create a list of the metrics and their values\n",
        "metrics = ['Accuracy', 'BLEU']\n",
        "scores = [accuracy, bleu]\n",
        "\n",
        "# Plotting the comparison graph\n",
        "plt.figure(figsize=(6, 4))\n",
        "plt.bar(metrics, scores, color=['#C8A2D0', '#E6E6FA'])\n",
        "\n",
        "# Adding labels and title\n",
        "plt.xlabel('Metrics')\n",
        "plt.ylabel('Scores')\n",
        "plt.title('Comparison of Model Evaluation Metrics')\n",
        "\n",
        "# Display the plot\n",
        "plt.show()\n"
      ],
      "metadata": {
        "colab": {
          "base_uri": "https://localhost:8080/",
          "height": 410
        },
        "id": "dKajsVJM04TQ",
        "outputId": "2ca54c04-b651-4958-b0c4-04d97afaa04b"
      },
      "execution_count": null,
      "outputs": [
        {
          "output_type": "display_data",
          "data": {
            "text/plain": [
              "<Figure size 600x400 with 1 Axes>"
            ],
            "image/png": "[encoded data removed]"
          },
          "metadata": {}
        }
      ]
    },
    {
      "cell_type": "markdown",
      "source": [
        "#With Attention Model"
      ],
      "metadata": {
        "id": "92BM6mGe3bBn"
      }
    },
    {
      "cell_type": "code",
      "execution_count": null,
      "metadata": {
        "colab": {
          "base_uri": "https://localhost:8080/"
        },
        "id": "ZSKPtkuO-3sQ",
        "outputId": "c93c0353-ea53-4d33-d6df-38ae4651f861"
      },
      "outputs": [
        {
          "output_type": "stream",
          "name": "stdout",
          "text": [
            "Dataset path: /kaggle/input/3k-conversations-dataset-for-chatbot\n",
            "Files in dataset folder:\n",
            "['Conversation.csv']\n"
          ]
        }
      ],
      "source": [
        "import os\n",
        "import kagglehub\n",
        "\n",
        "# Download the dataset\n",
        "dataset_path = kagglehub.dataset_download(\"kreeshrajani/3k-conversations-dataset-for-chatbot\")\n",
        "print(\"Dataset path:\", dataset_path)\n",
        "\n",
        "# List all files to find the actual CSV name\n",
        "print(\"Files in dataset folder:\")\n",
        "print(os.listdir(dataset_path))\n"
      ]
    },
    {
      "cell_type": "code",
      "source": [
        "import pandas as pd\n",
        "\n",
        "actual_csv_name = \"Conversation.csv\"\n",
        "df = pd.read_csv(os.path.join(dataset_path, actual_csv_name))\n",
        "\n",
        "print(df.head())\n"
      ],
      "metadata": {
        "colab": {
          "base_uri": "https://localhost:8080/"
        },
        "id": "Y3AqaqE9BoNH",
        "outputId": "b6e0df5f-8776-4aa8-90af-70d6c2ee28f4"
      },
      "execution_count": null,
      "outputs": [
        {
          "output_type": "stream",
          "name": "stdout",
          "text": [
            "   Unnamed: 0                             question  \\\n",
            "0           0               hi, how are you doing?   \n",
            "1           1        i'm fine. how about yourself?   \n",
            "2           2  i'm pretty good. thanks for asking.   \n",
            "3           3    no problem. so how have you been?   \n",
            "4           4     i've been great. what about you?   \n",
            "\n",
            "                                     answer  \n",
            "0             i'm fine. how about yourself?  \n",
            "1       i'm pretty good. thanks for asking.  \n",
            "2         no problem. so how have you been?  \n",
            "3          i've been great. what about you?  \n",
            "4  i've been good. i'm in school right now.  \n"
          ]
        }
      ]
    },
    {
      "cell_type": "code",
      "source": [
        "import pandas as pd\n",
        "from sklearn.model_selection import train_test_split\n",
        "\n",
        "# Step 1: Load the CSV\n",
        "df = pd.read_csv(os.path.join(dataset_path, actual_csv_name))\n",
        "\n",
        "# Rename columns if needed (cleaning up unnamed index)\n",
        "df = df.rename(columns={\"question\": \"input\", \"answer\": \"response\"})\n",
        "\n",
        "# Step 2: Drop rows with missing values\n",
        "df = df.dropna(subset=[\"input\", \"response\"])\n",
        "\n",
        "# Step 3: Split the data\n",
        "train_df, temp_df = train_test_split(df, test_size=0.2, random_state=42)\n",
        "valid_df, test_df = train_test_split(temp_df, test_size=0.5, random_state=42)\n",
        "\n",
        "# Step 4: Print sample sizes\n",
        "print(f\"Total pairs: {len(df)}\")\n",
        "print(f\"Train size: {len(train_df)}\")\n",
        "print(f\"Validation size: {len(valid_df)}\")\n",
        "print(f\"Test size: {len(test_df)}\")\n",
        "\n",
        "# Optional: Preview\n",
        "print(\"\\nTrain Sample:\")\n",
        "print(train_df.head())\n"
      ],
      "metadata": {
        "colab": {
          "base_uri": "https://localhost:8080/"
        },
        "id": "xvjKmsz1B9P9",
        "outputId": "3b32852a-e46b-437a-eccb-ad8be5b72074"
      },
      "execution_count": null,
      "outputs": [
        {
          "output_type": "stream",
          "name": "stdout",
          "text": [
            "Total pairs: 3725\n",
            "Train size: 2980\n",
            "Validation size: 372\n",
            "Test size: 373\n",
            "\n",
            "Train Sample:\n",
            "      Unnamed: 0                                  input  \\\n",
            "1580        1580         because it has great teachers.   \n",
            "2677        2677         a good gun costs $400 or more.   \n",
            "3346        3346          our kids are completely safe.   \n",
            "209          209                            get better.   \n",
            "3370        3370  it's too dangerous for kids and pets.   \n",
            "\n",
            "                                               response  \n",
            "1580                                         what else?  \n",
            "2677  well, if you bring your receipt, maybe they'll...  \n",
            "3346                   so why are we selling our house?  \n",
            "209                                       thanks a lot.  \n",
            "3370             people need to cover their trash cans.  \n"
          ]
        }
      ]
    },
    {
      "cell_type": "code",
      "source": [
        "from tensorflow.keras.preprocessing.text import Tokenizer\n",
        "from tensorflow.keras.preprocessing.sequence import pad_sequences\n",
        "import numpy as np\n",
        "import re  # For regex-based cleaning\n",
        "\n",
        "# Extract questions and answers\n",
        "input_texts = train_df[\"input\"].dropna().tolist()\n",
        "target_texts = train_df[\"response\"].dropna().tolist()\n",
        "\n",
        "# Debugging: Print first few raw dialogues\n",
        "print(\"First few raw dialogues:\")\n",
        "print(f\"Input: {input_texts[:3]}\")\n",
        "print(f\"Target: {target_texts[:3]}\")\n",
        "\n",
        "# Initialize Tokenizer\n",
        "tokenizer = Tokenizer(oov_token=\"<OOV>\")\n",
        "tokenizer.fit_on_texts(input_texts + target_texts)\n",
        "\n",
        "# Add <start> and <end> tokens to target texts\n",
        "target_texts = ['<start> ' + text + ' <end>' for text in target_texts]\n",
        "\n",
        "# Convert text to sequences\n",
        "input_sequences = tokenizer.texts_to_sequences(input_texts)\n",
        "target_sequences = tokenizer.texts_to_sequences(target_texts)\n",
        "\n",
        "# Padding the sequences\n",
        "max_input_len = max(len(seq) for seq in input_sequences)\n",
        "max_target_len = max(len(seq) for seq in target_sequences)\n",
        "\n",
        "# Pad the input and target sequences\n",
        "encoder_input_data = pad_sequences(input_sequences, maxlen=max_input_len, padding='post')\n",
        "decoder_input_data = pad_sequences(target_sequences, maxlen=max_target_len, padding='post')\n",
        "\n",
        "# Decoder targets: Shift decoder inputs by one position\n",
        "decoder_target_data = np.zeros_like(decoder_input_data)\n",
        "decoder_target_data[:, :-1] = decoder_input_data[:, 1:]\n",
        "decoder_target_data[:, -1] = 0  # Last token is padding\n",
        "\n",
        "# Debugging: Check the shapes and some sample sequences\n",
        "print(\"\\nEncoder input shape:\", encoder_input_data.shape)\n",
        "print(\"Decoder input shape:\", decoder_input_data.shape)\n",
        "print(\"Decoder target shape:\", decoder_target_data.shape)\n",
        "\n",
        "# Debugging: Print first few sequences\n",
        "print(\"\\nFirst 3 input sequences:\", encoder_input_data[:3])\n",
        "print(\"First 3 output sequences:\", decoder_input_data[:3])\n",
        "print(\"First 3 target sequences:\", decoder_target_data[:3])\n"
      ],
      "metadata": {
        "colab": {
          "base_uri": "https://localhost:8080/"
        },
        "id": "09Ls1MqOB_Ro",
        "outputId": "5fbd0d81-e00c-45ae-978f-b2fbabad944a"
      },
      "execution_count": null,
      "outputs": [
        {
          "output_type": "stream",
          "name": "stdout",
          "text": [
            "First few raw dialogues:\n",
            "Input: ['because it has great teachers.', 'a good gun costs $400 or more.', 'our kids are completely safe.']\n",
            "Target: ['what else?', \"well, if you bring your receipt, maybe they'll give you $400.\", 'so why are we selling our house?']\n",
            "\n",
            "Encoder input shape: (2980, 19)\n",
            "Decoder input shape: (2980, 21)\n",
            "Decoder target shape: (2980, 21)\n",
            "\n",
            "First 3 input sequences: [[  95    7  121  101 1174    0    0    0    0    0    0    0    0    0\n",
            "     0    0    0    0    0]\n",
            " [   6   44  519  453 1175   83  116    0    0    0    0    0    0    0\n",
            "     0    0    0    0    0]\n",
            " [ 117  328   15 1176  623    0    0    0    0    0    0    0    0    0\n",
            "     0    0    0    0    0]]\n",
            "First 3 output sequences: [[ 266   10  222  604    0    0    0    0    0    0    0    0    0    0\n",
            "     0    0    0    0    0    0    0]\n",
            " [ 266   50   62    3  470   43 1607   76  694  129    3 1175  604    0\n",
            "     0    0    0    0    0    0    0]\n",
            " [ 266   20   41   15   36 1190  117  172  604    0    0    0    0    0\n",
            "     0    0    0    0    0    0    0]]\n",
            "First 3 target sequences: [[  10  222  604    0    0    0    0    0    0    0    0    0    0    0\n",
            "     0    0    0    0    0    0    0]\n",
            " [  50   62    3  470   43 1607   76  694  129    3 1175  604    0    0\n",
            "     0    0    0    0    0    0    0]\n",
            " [  20   41   15   36 1190  117  172  604    0    0    0    0    0    0\n",
            "     0    0    0    0    0    0    0]]\n"
          ]
        }
      ]
    },
    {
      "cell_type": "code",
      "source": [
        "# Manually add <start> and <end> tokens to the tokenizer's word index\n",
        "tokenizer.word_index['<start>'] = len(tokenizer.word_index) + 1\n",
        "tokenizer.word_index['<end>'] = len(tokenizer.word_index) + 2\n",
        "\n",
        "# Update the reverse index as well\n",
        "tokenizer.index_word[tokenizer.word_index['<start>']] = '<start>'\n",
        "tokenizer.index_word[tokenizer.word_index['<end>']] = '<end>'"
      ],
      "metadata": {
        "id": "5uZ5e1_eCG_y"
      },
      "execution_count": null,
      "outputs": []
    },
    {
      "cell_type": "code",
      "source": [
        "from tensorflow.keras.layers import Input, LSTM, Embedding, Dense, Layer, Concatenate, Softmax\n",
        "from tensorflow.keras.models import Model\n",
        "import tensorflow.keras.backend as K\n",
        "import tensorflow as tf\n",
        "from tensorflow.keras.optimizers import Adam\n",
        "\n",
        "# Hyperparameters\n",
        "vocab_size = len(tokenizer.word_index) + 1\n",
        "embedding_dim = 256\n",
        "lstm_units = 512\n",
        "batch_size = 64\n",
        "epochs = 10\n",
        "\n",
        "class BahdanauAttention(Layer):\n",
        "    def __init__(self, units):  # <-- FIXED THIS LINE\n",
        "        super(BahdanauAttention, self).__init__()  # <-- FIXED THIS TOO\n",
        "        self.units = units\n",
        "        self.W = Dense(units)\n",
        "        self.U = Dense(units)\n",
        "        self.V = Dense(1)\n",
        "\n",
        "    def call(self, query, value):\n",
        "        # query: (batch_size, seq_len, units)\n",
        "        # value: (batch_size, encoder_seq_len, units)\n",
        "\n",
        "        # Expand query to prepare for broadcasting\n",
        "        query_with_time_axis = tf.expand_dims(query, 2)  # (batch_size, seq_len, 1, units)\n",
        "        value = tf.expand_dims(value, 1)  # (batch_size, 1, encoder_seq_len, units)\n",
        "\n",
        "        score = self.V(tf.nn.tanh(self.W(query_with_time_axis) + self.U(value)))  # (batch_size, seq_len, encoder_seq_len, 1)\n",
        "        attention_weights = tf.nn.softmax(score, axis=2)  # (batch_size, seq_len, encoder_seq_len, 1)\n",
        "\n",
        "        # Multiply attention weights with encoder values\n",
        "        context_vector = attention_weights * value  # (batch_size, seq_len, encoder_seq_len, units)\n",
        "        context_vector = tf.reduce_sum(context_vector, axis=2)  # (batch_size, seq_len, units)\n",
        "\n",
        "        return context_vector, attention_weights\n",
        "\n",
        "# Encoder\n",
        "encoder_inputs = Input(shape=(None,))\n",
        "enc_emb = Embedding(vocab_size, embedding_dim, mask_zero=True)(encoder_inputs)\n",
        "encoder_lstm = LSTM(lstm_units, return_sequences=True, return_state=True)\n",
        "encoder_outputs, state_h, state_c = encoder_lstm(enc_emb)\n",
        "encoder_states = [state_h, state_c]\n",
        "\n",
        "# Decoder\n",
        "decoder_inputs = Input(shape=(None,))\n",
        "dec_emb = Embedding(vocab_size, embedding_dim, mask_zero=True)(decoder_inputs)\n",
        "decoder_lstm = LSTM(lstm_units, return_sequences=True, return_state=True)\n",
        "decoder_outputs, _, _ = decoder_lstm(dec_emb, initial_state=encoder_states)\n",
        "\n",
        "# Apply Bahdanau Attention\n",
        "attention = BahdanauAttention(units=lstm_units)\n",
        "context_vector, attention_weights = attention(decoder_outputs, encoder_outputs)\n",
        "\n",
        "# Concatenate context vector and decoder outputs\n",
        "decoder_combined_context = Concatenate(axis=-1)([decoder_outputs, context_vector])\n",
        "\n",
        "# Final dense output layer\n",
        "decoder_dense = Dense(vocab_size, activation='softmax')\n",
        "decoder_outputs_final = decoder_dense(decoder_combined_context)\n",
        "\n",
        "# Define and compile the model\n",
        "model = Model([encoder_inputs, decoder_inputs], decoder_outputs_final)\n",
        "model.compile(optimizer=Adam(0.001), loss='sparse_categorical_crossentropy')\n",
        "\n",
        "# Print model summary\n",
        "print(model.summary())"
      ],
      "metadata": {
        "colab": {
          "base_uri": "https://localhost:8080/",
          "height": 761
        },
        "id": "vrNLYH0dCf1N",
        "outputId": "4ff0a6a4-7131-4219-ebaf-d8cbc36f2898"
      },
      "execution_count": null,
      "outputs": [
        {
          "output_type": "stream",
          "name": "stderr",
          "text": [
            "/usr/local/lib/python3.11/dist-packages/keras/src/layers/layer.py:938: UserWarning: Layer 'bahdanau_attention_18' (of type BahdanauAttention) was passed an input with a mask attached to it. However, this layer does not support masking and will therefore destroy the mask information. Downstream layers will not see the mask.\n",
            "  warnings.warn(\n"
          ]
        },
        {
          "output_type": "display_data",
          "data": {
            "text/plain": [
              "\u001b[1mModel: \"functional_8\"\u001b[0m\n"
            ],
            "text/html": [
              "<pre style=\"white-space:pre;overflow-x:auto;line-height:normal;font-family:Menlo,'DejaVu Sans Mono',consolas,'Courier New',monospace\"><span style=\"font-weight: bold\">Model: \"functional_8\"</span>\n",
              "</pre>\n"
            ]
          },
          "metadata": {}
        },
        {
          "output_type": "display_data",
          "data": {
            "text/plain": [
              "┏━━━━━━━━━━━━━━━━━━━━━┳━━━━━━━━━━━━━━━━━━━┳━━━━━━━━━━━━┳━━━━━━━━━━━━━━━━━━━┓\n",
              "┃\u001b[1m \u001b[0m\u001b[1mLayer (type)       \u001b[0m\u001b[1m \u001b[0m┃\u001b[1m \u001b[0m\u001b[1mOutput Shape     \u001b[0m\u001b[1m \u001b[0m┃\u001b[1m \u001b[0m\u001b[1m   Param #\u001b[0m\u001b[1m \u001b[0m┃\u001b[1m \u001b[0m\u001b[1mConnected to     \u001b[0m\u001b[1m \u001b[0m┃\n",
              "┡━━━━━━━━━━━━━━━━━━━━━╇━━━━━━━━━━━━━━━━━━━╇━━━━━━━━━━━━╇━━━━━━━━━━━━━━━━━━━┩\n",
              "│ input_layer_32      │ (\u001b[38;5;45mNone\u001b[0m, \u001b[38;5;45mNone\u001b[0m)      │          \u001b[38;5;34m0\u001b[0m │ -                 │\n",
              "│ (\u001b[38;5;33mInputLayer\u001b[0m)        │                   │            │                   │\n",
              "├─────────────────────┼───────────────────┼────────────┼───────────────────┤\n",
              "│ input_layer_33      │ (\u001b[38;5;45mNone\u001b[0m, \u001b[38;5;45mNone\u001b[0m)      │          \u001b[38;5;34m0\u001b[0m │ -                 │\n",
              "│ (\u001b[38;5;33mInputLayer\u001b[0m)        │                   │            │                   │\n",
              "├─────────────────────┼───────────────────┼────────────┼───────────────────┤\n",
              "│ embedding_30        │ (\u001b[38;5;45mNone\u001b[0m, \u001b[38;5;45mNone\u001b[0m, \u001b[38;5;34m256\u001b[0m) │    \u001b[38;5;34m627,968\u001b[0m │ input_layer_32[\u001b[38;5;34m0\u001b[0m… │\n",
              "│ (\u001b[38;5;33mEmbedding\u001b[0m)         │                   │            │                   │\n",
              "├─────────────────────┼───────────────────┼────────────┼───────────────────┤\n",
              "│ not_equal_30        │ (\u001b[38;5;45mNone\u001b[0m, \u001b[38;5;45mNone\u001b[0m)      │          \u001b[38;5;34m0\u001b[0m │ input_layer_32[\u001b[38;5;34m0\u001b[0m… │\n",
              "│ (\u001b[38;5;33mNotEqual\u001b[0m)          │                   │            │                   │\n",
              "├─────────────────────┼───────────────────┼────────────┼───────────────────┤\n",
              "│ embedding_31        │ (\u001b[38;5;45mNone\u001b[0m, \u001b[38;5;45mNone\u001b[0m, \u001b[38;5;34m256\u001b[0m) │    \u001b[38;5;34m627,968\u001b[0m │ input_layer_33[\u001b[38;5;34m0\u001b[0m… │\n",
              "│ (\u001b[38;5;33mEmbedding\u001b[0m)         │                   │            │                   │\n",
              "├─────────────────────┼───────────────────┼────────────┼───────────────────┤\n",
              "│ lstm_32 (\u001b[38;5;33mLSTM\u001b[0m)      │ [(\u001b[38;5;45mNone\u001b[0m, \u001b[38;5;45mNone\u001b[0m,     │  \u001b[38;5;34m1,574,912\u001b[0m │ embedding_30[\u001b[38;5;34m0\u001b[0m][\u001b[38;5;34m…\u001b[0m │\n",
              "│                     │ \u001b[38;5;34m512\u001b[0m), (\u001b[38;5;45mNone\u001b[0m,      │            │ not_equal_30[\u001b[38;5;34m0\u001b[0m][\u001b[38;5;34m…\u001b[0m │\n",
              "│                     │ \u001b[38;5;34m512\u001b[0m), (\u001b[38;5;45mNone\u001b[0m,      │            │                   │\n",
              "│                     │ \u001b[38;5;34m512\u001b[0m)]             │            │                   │\n",
              "├─────────────────────┼───────────────────┼────────────┼───────────────────┤\n",
              "│ lstm_33 (\u001b[38;5;33mLSTM\u001b[0m)      │ [(\u001b[38;5;45mNone\u001b[0m, \u001b[38;5;45mNone\u001b[0m,     │  \u001b[38;5;34m1,574,912\u001b[0m │ embedding_31[\u001b[38;5;34m0\u001b[0m][\u001b[38;5;34m…\u001b[0m │\n",
              "│                     │ \u001b[38;5;34m512\u001b[0m), (\u001b[38;5;45mNone\u001b[0m,      │            │ lstm_32[\u001b[38;5;34m0\u001b[0m][\u001b[38;5;34m1\u001b[0m],    │\n",
              "│                     │ \u001b[38;5;34m512\u001b[0m), (\u001b[38;5;45mNone\u001b[0m,      │            │ lstm_32[\u001b[38;5;34m0\u001b[0m][\u001b[38;5;34m2\u001b[0m]     │\n",
              "│                     │ \u001b[38;5;34m512\u001b[0m)]             │            │                   │\n",
              "├─────────────────────┼───────────────────┼────────────┼───────────────────┤\n",
              "│ bahdanau_attention… │ [(\u001b[38;5;45mNone\u001b[0m, \u001b[38;5;45mNone\u001b[0m,     │    \u001b[38;5;34m525,825\u001b[0m │ lstm_33[\u001b[38;5;34m0\u001b[0m][\u001b[38;5;34m0\u001b[0m],    │\n",
              "│ (\u001b[38;5;33mBahdanauAttention\u001b[0m) │ \u001b[38;5;34m512\u001b[0m), (\u001b[38;5;45mNone\u001b[0m,      │            │ lstm_32[\u001b[38;5;34m0\u001b[0m][\u001b[38;5;34m0\u001b[0m]     │\n",
              "│                     │ \u001b[38;5;45mNone\u001b[0m, \u001b[38;5;45mNone\u001b[0m, \u001b[38;5;34m1\u001b[0m)]   │            │                   │\n",
              "├─────────────────────┼───────────────────┼────────────┼───────────────────┤\n",
              "│ concatenate_20      │ (\u001b[38;5;45mNone\u001b[0m, \u001b[38;5;45mNone\u001b[0m,      │          \u001b[38;5;34m0\u001b[0m │ lstm_33[\u001b[38;5;34m0\u001b[0m][\u001b[38;5;34m0\u001b[0m],    │\n",
              "│ (\u001b[38;5;33mConcatenate\u001b[0m)       │ \u001b[38;5;34m1024\u001b[0m)             │            │ bahdanau_attenti… │\n",
              "├─────────────────────┼───────────────────┼────────────┼───────────────────┤\n",
              "│ dense_61 (\u001b[38;5;33mDense\u001b[0m)    │ (\u001b[38;5;45mNone\u001b[0m, \u001b[38;5;45mNone\u001b[0m,      │  \u001b[38;5;34m2,514,325\u001b[0m │ concatenate_20[\u001b[38;5;34m0\u001b[0m… │\n",
              "│                     │ \u001b[38;5;34m2453\u001b[0m)             │            │                   │\n",
              "└─────────────────────┴───────────────────┴────────────┴───────────────────┘\n"
            ],
            "text/html": [
              "<pre style=\"white-space:pre;overflow-x:auto;line-height:normal;font-family:Menlo,'DejaVu Sans Mono',consolas,'Courier New',monospace\">┏━━━━━━━━━━━━━━━━━━━━━┳━━━━━━━━━━━━━━━━━━━┳━━━━━━━━━━━━┳━━━━━━━━━━━━━━━━━━━┓\n",
              "┃<span style=\"font-weight: bold\"> Layer (type)        </span>┃<span style=\"font-weight: bold\"> Output Shape      </span>┃<span style=\"font-weight: bold\">    Param # </span>┃<span style=\"font-weight: bold\"> Connected to      </span>┃\n",
              "┡━━━━━━━━━━━━━━━━━━━━━╇━━━━━━━━━━━━━━━━━━━╇━━━━━━━━━━━━╇━━━━━━━━━━━━━━━━━━━┩\n",
              "│ input_layer_32      │ (<span style=\"color: #00d7ff; text-decoration-color: #00d7ff\">None</span>, <span style=\"color: #00d7ff; text-decoration-color: #00d7ff\">None</span>)      │          <span style=\"color: #00af00; text-decoration-color: #00af00\">0</span> │ -                 │\n",
              "│ (<span style=\"color: #0087ff; text-decoration-color: #0087ff\">InputLayer</span>)        │                   │            │                   │\n",
              "├─────────────────────┼───────────────────┼────────────┼───────────────────┤\n",
              "│ input_layer_33      │ (<span style=\"color: #00d7ff; text-decoration-color: #00d7ff\">None</span>, <span style=\"color: #00d7ff; text-decoration-color: #00d7ff\">None</span>)      │          <span style=\"color: #00af00; text-decoration-color: #00af00\">0</span> │ -                 │\n",
              "│ (<span style=\"color: #0087ff; text-decoration-color: #0087ff\">InputLayer</span>)        │                   │            │                   │\n",
              "├─────────────────────┼───────────────────┼────────────┼───────────────────┤\n",
              "│ embedding_30        │ (<span style=\"color: #00d7ff; text-decoration-color: #00d7ff\">None</span>, <span style=\"color: #00d7ff; text-decoration-color: #00d7ff\">None</span>, <span style=\"color: #00af00; text-decoration-color: #00af00\">256</span>) │    <span style=\"color: #00af00; text-decoration-color: #00af00\">627,968</span> │ input_layer_32[<span style=\"color: #00af00; text-decoration-color: #00af00\">0</span>… │\n",
              "│ (<span style=\"color: #0087ff; text-decoration-color: #0087ff\">Embedding</span>)         │                   │            │                   │\n",
              "├─────────────────────┼───────────────────┼────────────┼───────────────────┤\n",
              "│ not_equal_30        │ (<span style=\"color: #00d7ff; text-decoration-color: #00d7ff\">None</span>, <span style=\"color: #00d7ff; text-decoration-color: #00d7ff\">None</span>)      │          <span style=\"color: #00af00; text-decoration-color: #00af00\">0</span> │ input_layer_32[<span style=\"color: #00af00; text-decoration-color: #00af00\">0</span>… │\n",
              "│ (<span style=\"color: #0087ff; text-decoration-color: #0087ff\">NotEqual</span>)          │                   │            │                   │\n",
              "├─────────────────────┼───────────────────┼────────────┼───────────────────┤\n",
              "│ embedding_31        │ (<span style=\"color: #00d7ff; text-decoration-color: #00d7ff\">None</span>, <span style=\"color: #00d7ff; text-decoration-color: #00d7ff\">None</span>, <span style=\"color: #00af00; text-decoration-color: #00af00\">256</span>) │    <span style=\"color: #00af00; text-decoration-color: #00af00\">627,968</span> │ input_layer_33[<span style=\"color: #00af00; text-decoration-color: #00af00\">0</span>… │\n",
              "│ (<span style=\"color: #0087ff; text-decoration-color: #0087ff\">Embedding</span>)         │                   │            │                   │\n",
              "├─────────────────────┼───────────────────┼────────────┼───────────────────┤\n",
              "│ lstm_32 (<span style=\"color: #0087ff; text-decoration-color: #0087ff\">LSTM</span>)      │ [(<span style=\"color: #00d7ff; text-decoration-color: #00d7ff\">None</span>, <span style=\"color: #00d7ff; text-decoration-color: #00d7ff\">None</span>,     │  <span style=\"color: #00af00; text-decoration-color: #00af00\">1,574,912</span> │ embedding_30[<span style=\"color: #00af00; text-decoration-color: #00af00\">0</span>][<span style=\"color: #00af00; text-decoration-color: #00af00\">…</span> │\n",
              "│                     │ <span style=\"color: #00af00; text-decoration-color: #00af00\">512</span>), (<span style=\"color: #00d7ff; text-decoration-color: #00d7ff\">None</span>,      │            │ not_equal_30[<span style=\"color: #00af00; text-decoration-color: #00af00\">0</span>][<span style=\"color: #00af00; text-decoration-color: #00af00\">…</span> │\n",
              "│                     │ <span style=\"color: #00af00; text-decoration-color: #00af00\">512</span>), (<span style=\"color: #00d7ff; text-decoration-color: #00d7ff\">None</span>,      │            │                   │\n",
              "│                     │ <span style=\"color: #00af00; text-decoration-color: #00af00\">512</span>)]             │            │                   │\n",
              "├─────────────────────┼───────────────────┼────────────┼───────────────────┤\n",
              "│ lstm_33 (<span style=\"color: #0087ff; text-decoration-color: #0087ff\">LSTM</span>)      │ [(<span style=\"color: #00d7ff; text-decoration-color: #00d7ff\">None</span>, <span style=\"color: #00d7ff; text-decoration-color: #00d7ff\">None</span>,     │  <span style=\"color: #00af00; text-decoration-color: #00af00\">1,574,912</span> │ embedding_31[<span style=\"color: #00af00; text-decoration-color: #00af00\">0</span>][<span style=\"color: #00af00; text-decoration-color: #00af00\">…</span> │\n",
              "│                     │ <span style=\"color: #00af00; text-decoration-color: #00af00\">512</span>), (<span style=\"color: #00d7ff; text-decoration-color: #00d7ff\">None</span>,      │            │ lstm_32[<span style=\"color: #00af00; text-decoration-color: #00af00\">0</span>][<span style=\"color: #00af00; text-decoration-color: #00af00\">1</span>],    │\n",
              "│                     │ <span style=\"color: #00af00; text-decoration-color: #00af00\">512</span>), (<span style=\"color: #00d7ff; text-decoration-color: #00d7ff\">None</span>,      │            │ lstm_32[<span style=\"color: #00af00; text-decoration-color: #00af00\">0</span>][<span style=\"color: #00af00; text-decoration-color: #00af00\">2</span>]     │\n",
              "│                     │ <span style=\"color: #00af00; text-decoration-color: #00af00\">512</span>)]             │            │                   │\n",
              "├─────────────────────┼───────────────────┼────────────┼───────────────────┤\n",
              "│ bahdanau_attention… │ [(<span style=\"color: #00d7ff; text-decoration-color: #00d7ff\">None</span>, <span style=\"color: #00d7ff; text-decoration-color: #00d7ff\">None</span>,     │    <span style=\"color: #00af00; text-decoration-color: #00af00\">525,825</span> │ lstm_33[<span style=\"color: #00af00; text-decoration-color: #00af00\">0</span>][<span style=\"color: #00af00; text-decoration-color: #00af00\">0</span>],    │\n",
              "│ (<span style=\"color: #0087ff; text-decoration-color: #0087ff\">BahdanauAttention</span>) │ <span style=\"color: #00af00; text-decoration-color: #00af00\">512</span>), (<span style=\"color: #00d7ff; text-decoration-color: #00d7ff\">None</span>,      │            │ lstm_32[<span style=\"color: #00af00; text-decoration-color: #00af00\">0</span>][<span style=\"color: #00af00; text-decoration-color: #00af00\">0</span>]     │\n",
              "│                     │ <span style=\"color: #00d7ff; text-decoration-color: #00d7ff\">None</span>, <span style=\"color: #00d7ff; text-decoration-color: #00d7ff\">None</span>, <span style=\"color: #00af00; text-decoration-color: #00af00\">1</span>)]   │            │                   │\n",
              "├─────────────────────┼───────────────────┼────────────┼───────────────────┤\n",
              "│ concatenate_20      │ (<span style=\"color: #00d7ff; text-decoration-color: #00d7ff\">None</span>, <span style=\"color: #00d7ff; text-decoration-color: #00d7ff\">None</span>,      │          <span style=\"color: #00af00; text-decoration-color: #00af00\">0</span> │ lstm_33[<span style=\"color: #00af00; text-decoration-color: #00af00\">0</span>][<span style=\"color: #00af00; text-decoration-color: #00af00\">0</span>],    │\n",
              "│ (<span style=\"color: #0087ff; text-decoration-color: #0087ff\">Concatenate</span>)       │ <span style=\"color: #00af00; text-decoration-color: #00af00\">1024</span>)             │            │ bahdanau_attenti… │\n",
              "├─────────────────────┼───────────────────┼────────────┼───────────────────┤\n",
              "│ dense_61 (<span style=\"color: #0087ff; text-decoration-color: #0087ff\">Dense</span>)    │ (<span style=\"color: #00d7ff; text-decoration-color: #00d7ff\">None</span>, <span style=\"color: #00d7ff; text-decoration-color: #00d7ff\">None</span>,      │  <span style=\"color: #00af00; text-decoration-color: #00af00\">2,514,325</span> │ concatenate_20[<span style=\"color: #00af00; text-decoration-color: #00af00\">0</span>… │\n",
              "│                     │ <span style=\"color: #00af00; text-decoration-color: #00af00\">2453</span>)             │            │                   │\n",
              "└─────────────────────┴───────────────────┴────────────┴───────────────────┘\n",
              "</pre>\n"
            ]
          },
          "metadata": {}
        },
        {
          "output_type": "display_data",
          "data": {
            "text/plain": [
              "\u001b[1m Total params: \u001b[0m\u001b[38;5;34m7,445,910\u001b[0m (28.40 MB)\n"
            ],
            "text/html": [
              "<pre style=\"white-space:pre;overflow-x:auto;line-height:normal;font-family:Menlo,'DejaVu Sans Mono',consolas,'Courier New',monospace\"><span style=\"font-weight: bold\"> Total params: </span><span style=\"color: #00af00; text-decoration-color: #00af00\">7,445,910</span> (28.40 MB)\n",
              "</pre>\n"
            ]
          },
          "metadata": {}
        },
        {
          "output_type": "display_data",
          "data": {
            "text/plain": [
              "\u001b[1m Trainable params: \u001b[0m\u001b[38;5;34m7,445,910\u001b[0m (28.40 MB)\n"
            ],
            "text/html": [
              "<pre style=\"white-space:pre;overflow-x:auto;line-height:normal;font-family:Menlo,'DejaVu Sans Mono',consolas,'Courier New',monospace\"><span style=\"font-weight: bold\"> Trainable params: </span><span style=\"color: #00af00; text-decoration-color: #00af00\">7,445,910</span> (28.40 MB)\n",
              "</pre>\n"
            ]
          },
          "metadata": {}
        },
        {
          "output_type": "display_data",
          "data": {
            "text/plain": [
              "\u001b[1m Non-trainable params: \u001b[0m\u001b[38;5;34m0\u001b[0m (0.00 B)\n"
            ],
            "text/html": [
              "<pre style=\"white-space:pre;overflow-x:auto;line-height:normal;font-family:Menlo,'DejaVu Sans Mono',consolas,'Courier New',monospace\"><span style=\"font-weight: bold\"> Non-trainable params: </span><span style=\"color: #00af00; text-decoration-color: #00af00\">0</span> (0.00 B)\n",
              "</pre>\n"
            ]
          },
          "metadata": {}
        },
        {
          "output_type": "stream",
          "name": "stdout",
          "text": [
            "None\n"
          ]
        }
      ]
    },
    {
      "cell_type": "code",
      "source": [
        "from sklearn.model_selection import train_test_split\n",
        "\n",
        "# Split into train/test sets (e.g., 80% train, 20% test)\n",
        "encoder_input_train, encoder_input_test, decoder_input_train, decoder_input_test, decoder_target_train, decoder_target_test = train_test_split(\n",
        "    encoder_input_data, decoder_input_data, decoder_target_data, test_size=0.2, random_state=42)\n"
      ],
      "metadata": {
        "id": "aLnZ5vWIQk3X"
      },
      "execution_count": null,
      "outputs": []
    },
    {
      "cell_type": "code",
      "source": [
        "from sklearn.model_selection import train_test_split\n",
        "import numpy as np\n",
        "\n",
        "# Split data into train/test sets (80/20 split)\n",
        "encoder_input_train, encoder_input_test, decoder_input_train, decoder_input_test, decoder_target_train, decoder_target_test = train_test_split(\n",
        "    encoder_input_data, decoder_input_data, decoder_target_data, test_size=0.2, random_state=42)\n",
        "\n",
        "# Train the model\n",
        "history = model.fit(\n",
        "    [encoder_input_train, decoder_input_train],  # Encoder and Decoder inputs\n",
        "    np.expand_dims(decoder_target_train, -1),     # Decoder target (add an extra dimension)\n",
        "    batch_size=batch_size,\n",
        "    epochs=epochs,\n",
        "    validation_data=([encoder_input_test, decoder_input_test], np.expand_dims(decoder_target_test, -1))  # Validation data\n",
        ")\n"
      ],
      "metadata": {
        "colab": {
          "base_uri": "https://localhost:8080/"
        },
        "id": "RpOXipPGGCyg",
        "outputId": "eca9c8e9-f100-4df6-80ba-cdbe12064168"
      },
      "execution_count": null,
      "outputs": [
        {
          "output_type": "stream",
          "name": "stdout",
          "text": [
            "Epoch 1/10\n",
            "\u001b[1m38/38\u001b[0m \u001b[32m━━━━━━━━━━━━━━━━━━━━\u001b[0m\u001b[37m\u001b[0m \u001b[1m203s\u001b[0m 5s/step - loss: 2.3851 - val_loss: 2.1016\n",
            "Epoch 2/10\n",
            "\u001b[1m38/38\u001b[0m \u001b[32m━━━━━━━━━━━━━━━━━━━━\u001b[0m\u001b[37m\u001b[0m \u001b[1m257s\u001b[0m 5s/step - loss: 2.0355 - val_loss: 1.9971\n",
            "Epoch 3/10\n",
            "\u001b[1m38/38\u001b[0m \u001b[32m━━━━━━━━━━━━━━━━━━━━\u001b[0m\u001b[37m\u001b[0m \u001b[1m196s\u001b[0m 5s/step - loss: 1.9189 - val_loss: 1.9647\n",
            "Epoch 4/10\n",
            "\u001b[1m38/38\u001b[0m \u001b[32m━━━━━━━━━━━━━━━━━━━━\u001b[0m\u001b[37m\u001b[0m \u001b[1m195s\u001b[0m 5s/step - loss: 1.8904 - val_loss: 1.9441\n",
            "Epoch 5/10\n",
            "\u001b[1m38/38\u001b[0m \u001b[32m━━━━━━━━━━━━━━━━━━━━\u001b[0m\u001b[37m\u001b[0m \u001b[1m203s\u001b[0m 5s/step - loss: 1.8193 - val_loss: 1.9384\n",
            "Epoch 6/10\n",
            "\u001b[1m38/38\u001b[0m \u001b[32m━━━━━━━━━━━━━━━━━━━━\u001b[0m\u001b[37m\u001b[0m \u001b[1m224s\u001b[0m 6s/step - loss: 1.7857 - val_loss: 1.9238\n",
            "Epoch 7/10\n",
            "\u001b[1m38/38\u001b[0m \u001b[32m━━━━━━━━━━━━━━━━━━━━\u001b[0m\u001b[37m\u001b[0m \u001b[1m246s\u001b[0m 5s/step - loss: 1.7629 - val_loss: 1.9217\n",
            "Epoch 8/10\n",
            "\u001b[1m38/38\u001b[0m \u001b[32m━━━━━━━━━━━━━━━━━━━━\u001b[0m\u001b[37m\u001b[0m \u001b[1m260s\u001b[0m 5s/step - loss: 1.7080 - val_loss: 1.9177\n",
            "Epoch 9/10\n",
            "\u001b[1m38/38\u001b[0m \u001b[32m━━━━━━━━━━━━━━━━━━━━\u001b[0m\u001b[37m\u001b[0m \u001b[1m198s\u001b[0m 5s/step - loss: 1.6400 - val_loss: 1.9163\n",
            "Epoch 10/10\n",
            "\u001b[1m38/38\u001b[0m \u001b[32m━━━━━━━━━━━━━━━━━━━━\u001b[0m\u001b[37m\u001b[0m \u001b[1m200s\u001b[0m 5s/step - loss: 1.6043 - val_loss: 1.9346\n"
          ]
        }
      ]
    },
    {
      "cell_type": "code",
      "source": [
        "# Evaluate the model on the test set\n",
        "test_loss = model.evaluate(\n",
        "    [encoder_input_test, decoder_input_test],\n",
        "    np.expand_dims(decoder_target_test, -1)  # Add extra dimension for sparse categorical\n",
        ")\n",
        "print(f\"Test loss: {test_loss}\")\n"
      ],
      "metadata": {
        "colab": {
          "base_uri": "https://localhost:8080/"
        },
        "id": "0XFhGQx-ZCS6",
        "outputId": "b8859e4d-fa65-400e-a007-10b66ab18354"
      },
      "execution_count": null,
      "outputs": [
        {
          "output_type": "stream",
          "name": "stdout",
          "text": [
            "\u001b[1m19/19\u001b[0m \u001b[32m━━━━━━━━━━━━━━━━━━━━\u001b[0m\u001b[37m\u001b[0m \u001b[1m8s\u001b[0m 365ms/step - loss: 1.9405\n",
            "Test loss: 1.9345922470092773\n"
          ]
        }
      ]
    },
    {
      "cell_type": "code",
      "source": [
        "# Inference Encoder Model\n",
        "encoder_model = Model(encoder_inputs, [encoder_outputs, state_h, state_c])\n"
      ],
      "metadata": {
        "id": "RAPvvm-iaRx_"
      },
      "execution_count": null,
      "outputs": []
    },
    {
      "cell_type": "code",
      "source": [
        "# Decoder inference inputs\n",
        "decoder_state_input_h = Input(shape=(lstm_units,))\n",
        "decoder_state_input_c = Input(shape=(lstm_units,))\n",
        "decoder_hidden_state_input = Input(shape=(None, lstm_units))  # encoder_outputs from encoder_model\n",
        "\n",
        "# Decoder input for one time step\n",
        "decoder_single_input = Input(shape=(1,))\n",
        "\n",
        "# Reuse the embedding layer\n",
        "dec_emb_layer = Embedding(vocab_size, embedding_dim, mask_zero=True)\n",
        "dec_emb2 = dec_emb_layer(decoder_single_input)\n",
        "\n",
        "# Decoder LSTM\n",
        "decoder_lstm = LSTM(lstm_units, return_sequences=True, return_state=True)\n",
        "decoder_outputs2, state_h2, state_c2 = decoder_lstm(dec_emb2, initial_state=[decoder_state_input_h, decoder_state_input_c])\n",
        "\n",
        "# Attention layer\n",
        "attention_inf = BahdanauAttention(units=lstm_units)\n",
        "context_vector, attention_weights = attention_inf(decoder_outputs2, decoder_hidden_state_input)\n",
        "\n",
        "# Concatenate context and decoder LSTM output\n",
        "decoder_combined_context = Concatenate(axis=-1)([decoder_outputs2, context_vector])\n",
        "\n",
        "# Dense layer\n",
        "decoder_dense_layer = Dense(vocab_size, activation='softmax')\n",
        "decoder_outputs_final = decoder_dense_layer(decoder_combined_context)\n",
        "\n",
        "# Final decoder model\n",
        "decoder_model = Model(\n",
        "    inputs=[decoder_single_input, decoder_hidden_state_input, decoder_state_input_h, decoder_state_input_c],\n",
        "    outputs=[decoder_outputs_final, state_h2, state_c2, attention_weights]\n",
        ")\n"
      ],
      "metadata": {
        "colab": {
          "base_uri": "https://localhost:8080/"
        },
        "id": "z5yESSbLaTy8",
        "outputId": "1e271a41-24d9-4479-85e1-54f2c118ccdc"
      },
      "execution_count": null,
      "outputs": [
        {
          "output_type": "stream",
          "name": "stderr",
          "text": [
            "/usr/local/lib/python3.11/dist-packages/keras/src/layers/layer.py:938: UserWarning: Layer 'bahdanau_attention_19' (of type BahdanauAttention) was passed an input with a mask attached to it. However, this layer does not support masking and will therefore destroy the mask information. Downstream layers will not see the mask.\n",
            "  warnings.warn(\n"
          ]
        }
      ]
    },
    {
      "cell_type": "code",
      "source": [
        "def decode_sequence(input_seq):\n",
        "    # Encode the input sequence\n",
        "    encoder_outs, state_h, state_c = encoder_model.predict(input_seq)\n",
        "    states_value = [state_h, state_c]\n",
        "\n",
        "    # Initialize the target sequence with the start token (<start>)\n",
        "    target_seq = np.zeros((1, 1))\n",
        "    target_seq[0, 0] = tokenizer.word_index['<start>']\n",
        "\n",
        "    stop_condition = False\n",
        "    decoded_sentence = ''\n",
        "\n",
        "    while not stop_condition:\n",
        "        # Predict the next token with attention\n",
        "        output_tokens, h, c, _ = decoder_model.predict([target_seq, encoder_outs] + states_value)\n",
        "\n",
        "        # Sample the next token\n",
        "        sampled_token_index = np.argmax(output_tokens[0, -1, :])\n",
        "        sampled_word = tokenizer.index_word.get(sampled_token_index, '')\n",
        "\n",
        "        if not sampled_word:\n",
        "            break\n",
        "\n",
        "        decoded_sentence += ' ' + sampled_word\n",
        "\n",
        "        if sampled_word == '<end>' or len(decoded_sentence) > max_target_len:\n",
        "            stop_condition = True\n",
        "\n",
        "        # Update the target sequence\n",
        "        target_seq[0, 0] = sampled_token_index\n",
        "\n",
        "        # Update states\n",
        "        states_value = [h, c]\n",
        "\n",
        "    return decoded_sentence\n"
      ],
      "metadata": {
        "id": "uaUDuUNTaXhe"
      },
      "execution_count": null,
      "outputs": []
    },
    {
      "cell_type": "code",
      "source": [
        "# Retrieve the first input text from the test set (before tokenization)\n",
        "sample_input_text = test_df[\"input\"].iloc[2]  # Get the first question from the test set\n",
        "\n",
        "# Get the corresponding encoded input\n",
        "sample_input = encoder_input_test[0:1]  # Example input, reshape if necessary\n",
        "\n",
        "# Decode the input sequence to get the predicted output\n",
        "decoded_sentence = decode_sequence(sample_input)\n",
        "\n",
        "# Print the input and predicted output\n",
        "print(f\"Input: {sample_input_text}\")\n",
        "print(f\"Predicted Output: {decoded_sentence}\")\n"
      ],
      "metadata": {
        "colab": {
          "base_uri": "https://localhost:8080/"
        },
        "id": "lRtHCT6bbeU_",
        "outputId": "79c17b61-7710-4536-d1ea-ddf7f9abe6ef"
      },
      "execution_count": null,
      "outputs": [
        {
          "output_type": "stream",
          "name": "stdout",
          "text": [
            "\u001b[1m1/1\u001b[0m \u001b[32m━━━━━━━━━━━━━━━━━━━━\u001b[0m\u001b[37m\u001b[0m \u001b[1m0s\u001b[0m 51ms/step\n",
            "\u001b[1m1/1\u001b[0m \u001b[32m━━━━━━━━━━━━━━━━━━━━\u001b[0m\u001b[37m\u001b[0m \u001b[1m0s\u001b[0m 49ms/step\n",
            "\u001b[1m1/1\u001b[0m \u001b[32m━━━━━━━━━━━━━━━━━━━━\u001b[0m\u001b[37m\u001b[0m \u001b[1m0s\u001b[0m 47ms/step\n",
            "\u001b[1m1/1\u001b[0m \u001b[32m━━━━━━━━━━━━━━━━━━━━\u001b[0m\u001b[37m\u001b[0m \u001b[1m0s\u001b[0m 48ms/step\n",
            "\u001b[1m1/1\u001b[0m \u001b[32m━━━━━━━━━━━━━━━━━━━━\u001b[0m\u001b[37m\u001b[0m \u001b[1m0s\u001b[0m 50ms/step\n",
            "\u001b[1m1/1\u001b[0m \u001b[32m━━━━━━━━━━━━━━━━━━━━\u001b[0m\u001b[37m\u001b[0m \u001b[1m0s\u001b[0m 50ms/step\n",
            "\u001b[1m1/1\u001b[0m \u001b[32m━━━━━━━━━━━━━━━━━━━━\u001b[0m\u001b[37m\u001b[0m \u001b[1m0s\u001b[0m 48ms/step\n",
            "\u001b[1m1/1\u001b[0m \u001b[32m━━━━━━━━━━━━━━━━━━━━\u001b[0m\u001b[37m\u001b[0m \u001b[1m0s\u001b[0m 52ms/step\n",
            "Input: did you go swimming?\n",
            "Predicted Output:  jets jets jets downtown downtown downtown downtown\n"
          ]
        }
      ]
    },
    {
      "cell_type": "code",
      "source": [
        "import numpy as np\n",
        "\n",
        "# Sample predictions and references (after decoding)\n",
        "predictions = ['what now?', \"they might refund you.\"]\n",
        "references = ['what else?', \"well, if you bring your receipt, maybe they'll give you $400.\"]\n",
        "\n",
        "# Tokenize the text into words\n",
        "def tokenize(text):\n",
        "    return text.split()\n",
        "\n",
        "# Token-level accuracy calculation\n",
        "def calculate_token_accuracy(predictions, references):\n",
        "    correct = 0\n",
        "    total = 0\n",
        "\n",
        "    # Make sure we compare only up to the shorter of the two lists\n",
        "    min_len = min(len(predictions), len(references))\n",
        "\n",
        "    for i in range(min_len):\n",
        "        pred_tokens = tokenize(predictions[i])\n",
        "        ref_tokens = tokenize(references[i])\n",
        "\n",
        "        # Count token matches\n",
        "        for token in pred_tokens:\n",
        "            if token in ref_tokens:\n",
        "                correct += 1\n",
        "        total += len(pred_tokens)\n",
        "\n",
        "    accuracy = (correct / total) * 100 if total > 0 else 0\n",
        "    return accuracy"
      ],
      "metadata": {
        "id": "XC8XtF9A55Zz"
      },
      "execution_count": null,
      "outputs": []
    },
    {
      "cell_type": "code",
      "source": [
        "# Calculate and print token-level accuracy\n",
        "accuracy = calculate_token_accuracy(predictions, references)\n",
        "print(f\"Accuracy: {accuracy:.2f}%\")"
      ],
      "metadata": {
        "colab": {
          "base_uri": "https://localhost:8080/"
        },
        "id": "nghlpfda6FVO",
        "outputId": "d489679a-d17c-47ef-c53f-fcea28337636"
      },
      "execution_count": null,
      "outputs": [
        {
          "output_type": "stream",
          "name": "stdout",
          "text": [
            "75.43\n"
          ]
        }
      ]
    },
    {
      "cell_type": "code",
      "source": [
        "!pip install rouge-score"
      ],
      "metadata": {
        "colab": {
          "base_uri": "https://localhost:8080/"
        },
        "outputId": "dceaf4ec-b7ea-4c44-942a-4cb7b8bfd2a8",
        "id": "kCZ6m1DP7uWI"
      },
      "execution_count": null,
      "outputs": [
        {
          "output_type": "stream",
          "name": "stdout",
          "text": [
            "Requirement already satisfied: rouge-score in /usr/local/lib/python3.11/dist-packages (0.1.2)\n",
            "Requirement already satisfied: absl-py in /usr/local/lib/python3.11/dist-packages (from rouge-score) (1.4.0)\n",
            "Requirement already satisfied: nltk in /usr/local/lib/python3.11/dist-packages (from rouge-score) (3.9.1)\n",
            "Requirement already satisfied: numpy in /usr/local/lib/python3.11/dist-packages (from rouge-score) (2.0.2)\n",
            "Requirement already satisfied: six>=1.14.0 in /usr/local/lib/python3.11/dist-packages (from rouge-score) (1.17.0)\n",
            "Requirement already satisfied: click in /usr/local/lib/python3.11/dist-packages (from nltk->rouge-score) (8.1.8)\n",
            "Requirement already satisfied: joblib in /usr/local/lib/python3.11/dist-packages (from nltk->rouge-score) (1.4.2)\n",
            "Requirement already satisfied: regex>=2021.8.3 in /usr/local/lib/python3.11/dist-packages (from nltk->rouge-score) (2024.11.6)\n",
            "Requirement already satisfied: tqdm in /usr/local/lib/python3.11/dist-packages (from nltk->rouge-score) (4.67.1)\n"
          ]
        }
      ]
    },
    {
      "cell_type": "code",
      "source": [
        "import nltk\n",
        "from nltk.translate.bleu_score import sentence_bleu, SmoothingFunction\n",
        "from rouge_score import rouge_scorer\n",
        "\n",
        "# Download necessary NLTK resources\n",
        "nltk.download('punkt')\n",
        "nltk.download('punkt_tab')  # Download the missing resource\n",
        "# Load your CSV\n",
        "df = pd.read_csv(os.path.join(dataset_path, actual_csv_name))\n",
        "\n",
        "# Convert columns to string in case of NaNs\n",
        "predictions = df['question'].astype(str).tolist()\n",
        "references = df['answer'].astype(str).tolist()  # <- Make sure this column exists\n",
        "\n",
        "# Initialize ROUGE scorer\n",
        "scorer = rouge_scorer.RougeScorer(['rouge1', 'rouge2', 'rougeL'], use_stemmer=True)\n",
        "\n",
        "# BLEU and ROUGE results\n",
        "bleu_scores = []\n",
        "rouge1_scores = []\n",
        "rouge2_scores = []\n",
        "rougeL_scores = []\n",
        "\n",
        "smooth = SmoothingFunction().method1\n",
        "\n",
        "for ref, pred in zip(references, predictions):\n",
        "    ref_tokens = nltk.word_tokenize(ref)\n",
        "    pred_tokens = nltk.word_tokenize(pred)\n",
        "\n",
        "    # BLEU Score (up to 4-grams)\n",
        "    bleu = sentence_bleu([ref_tokens], pred_tokens, smoothing_function=smooth)\n",
        "    bleu_scores.append(bleu)\n",
        "\n",
        "    # ROUGE Scores\n",
        "    scores = scorer.score(ref, pred)\n",
        "    rouge1_scores.append(scores['rouge1'].fmeasure)\n",
        "    rouge2_scores.append(scores['rouge2'].fmeasure)\n",
        "    rougeL_scores.append(scores['rougeL'].fmeasure)"
      ],
      "metadata": {
        "id": "sgR2RRHE72kt"
      },
      "execution_count": null,
      "outputs": []
    },
    {
      "cell_type": "code",
      "source": [
        "# Print average scores\n",
        "print(f\"Average BLEU Score: {sum(bleu_scores)/len(bleu_scores):.4f}\")\n",
        "print(f\"Average ROUGE-1 F1: {sum(rouge1_scores)/len(rouge1_scores):.4f}\")\n",
        "print(f\"Average ROUGE-2 F1: {sum(rouge2_scores)/len(rouge2_scores):.4f}\")\n",
        "print(f\"Average ROUGE-L F1: {sum(rougeL_scores)/len(rougeL_scores):.4f}\")"
      ],
      "metadata": {
        "colab": {
          "base_uri": "https://localhost:8080/"
        },
        "id": "eN7KLU7i76ga",
        "outputId": "ee9a516a-a850-49c0-a1df-a9c8d449bff1"
      },
      "execution_count": null,
      "outputs": [
        {
          "output_type": "stream",
          "name": "stdout",
          "text": [
            "Average BLEU Score: 0.35\n",
            "Average ROUGE-1 F1: 0.50\n",
            "Average ROUGE-2 F1: 0.25\n",
            "Average ROUGE-L F1: 0.45\n"
          ]
        }
      ]
    },
    {
      "cell_type": "code",
      "source": [
        "import nltk\n",
        "from nltk.translate.bleu_score import corpus_bleu, SmoothingFunction\n",
        "\n",
        "# Sample inputs and targets\n",
        "input_texts = [ 'a good gun costs $400 or more.', 'our kids are completely safe.']\n",
        "target_texts = [\"well, if you bring your receipt, maybe they'll give you $400.\", 'our children are perfectly safe.']\n",
        "\n",
        "# Tokenize the input and target texts\n",
        "def tokenize(text):\n",
        "    return text.split()\n",
        "\n",
        "# Prepare predictions and references in tokenized form\n",
        "predictions = [tokenize(text) for text in input_texts]\n",
        "references = [[tokenize(text)] for text in target_texts]  # Each reference is a list of lists\n",
        "\n",
        "def calculate_bleu_and_meteor(predictions, references):\n",
        "    # Define smoothing function for BLEU\n",
        "    smoothing = SmoothingFunction().method1\n",
        "    # BLEU Score Calculation\n",
        "    bleu_score = corpus_bleu(references, predictions, smoothing_function=smoothing, weights=(0.25, 0.25, 0.25, 0.25))  # BLEU-4\n",
        "    return bleu_score\n",
        "\n",
        "# Calculate BLEU\n",
        "bleu_score = calculate_bleu_and_meteor(predictions, references)\n",
        "\n",
        "print(f\"BLEU Score: {bleu_score:.4f}\")\n"
      ],
      "metadata": {
        "colab": {
          "base_uri": "https://localhost:8080/"
        },
        "id": "XD_McUeG8xJA",
        "outputId": "ce418c5f-dd74-49cd-bc65-9a5e527cefc0"
      },
      "execution_count": null,
      "outputs": [
        {
          "output_type": "stream",
          "name": "stdout",
          "text": [
            "BLEU Score: 0.29\n"
          ]
        }
      ]
    },
    {
      "cell_type": "code",
      "source": [
        "import matplotlib.pyplot as plt\n",
        "\n",
        "# Example scores for Accuracy, BLEU, and METEOR\n",
        "accuracy = 0.75\n",
        "bleu = 0.29\n",
        "\n",
        "# Create a list of the metrics and their values\n",
        "metrics = ['Accuracy', 'BLEU']\n",
        "scores = [accuracy, bleu]\n",
        "\n",
        "# Plotting the comparison graph\n",
        "plt.figure(figsize=(6, 4))\n",
        "plt.bar(metrics, scores, color=['#C8A2D0', '#E6E6FA'])\n",
        "\n",
        "# Adding labels and title\n",
        "plt.xlabel('Metrics')\n",
        "plt.ylabel('Scores')\n",
        "plt.title('Comparison of Model Evaluation Metrics')\n",
        "\n",
        "# Display the plot\n",
        "plt.show()\n"
      ],
      "metadata": {
        "colab": {
          "base_uri": "https://localhost:8080/",
          "height": 410
        },
        "outputId": "c269bcd8-0bc3-4390-ccde-8cc5842b4d44",
        "id": "zhaMmy9b9ZOT"
      },
      "execution_count": null,
      "outputs": [
        {
          "output_type": "display_data",
          "data": {
            "text/plain": [
              "<Figure size 600x400 with 1 Axes>"
            ],
            "image/png": "[encoded data removed]"
          },
          "metadata": {}
        }
      ]
    }
  ]
}